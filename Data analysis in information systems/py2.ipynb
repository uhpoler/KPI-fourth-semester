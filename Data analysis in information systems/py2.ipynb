{
  "cells": [
    {
      "cell_type": "markdown",
      "metadata": {
        "id": "K8f7NsILrXX0"
      },
      "source": [
        "# Пошуковий аналіз даних"
      ]
    },
    {
      "cell_type": "markdown",
      "metadata": {
        "id": "MyOywslOrXX4"
      },
      "source": [
        "<h2>Мета</h2>\n",
        "\n",
        "Ознайомитись з методами перевірки статистичних гіпотез. Після завершення цієї лабораторної роботи ви зможете:\n",
        "\n",
        "* Досліджувати дані за допомогою візуалізацій\n",
        "* Робити описовий аналіз\n",
        "* Групувати дані для аналізу\n",
        "* Знаходити зв'язок між ознаками\n",
        "* Перевіряти гіпотези про значущість коефіцієнта кореляції та про вигляд закону розподілу\n",
        "* Робити дисперсійний аналіз\n",
        "\n"
      ]
    },
    {
      "cell_type": "markdown",
      "metadata": {
        "id": "yclvNaJ4rXYj"
      },
      "source": [
        "<div class=\"alert alert-danger alertdanger\" style=\"margin-top: 20px\">\n",
        "\n",
        "# <h1 id=\"task\">Завдання, що оцінюються </h1>\n",
        "\n",
        "</div>\n"
      ]
    },
    {
      "cell_type": "markdown",
      "metadata": {
        "id": "LTFKLFsErXYj"
      },
      "source": [
        "1. Скачати дані із файлу <a href=\"https://drive.google.com/file/d/1wSj5SKRPKOjNPP2cyqaNpxRCinKEmJkO/view?usp=drive_link\" target=\"_blank\">'clean_data2.csv'</a>, який зберегли наприкінці попередньої роботи (Data2.csv з виправленими помилками та заповненими пропусками). Записати дані у dataframe. Дослідити ознаки, побудувавши їх візуалізації\n",
        "2. Порахувати кореляцію між всіма кількісними ознаками\n",
        "3. Побудувати діаграми розсіювання для кількісних ознак та 'CO2 emission'. Побудувати діаграму розмаху для 'CO2 emission' по регіонам. Візуально оцініть наявність та силу зв'язку між цими ознаками.   \n",
        "4. Які кількісні ознаки можуть бути предикторами кількості викидів СО2?\n",
        "5. Виконати дисперсійний аналіз для кількості викидів СО2, згрупувати дані по регіонам"
      ]
    },
    {
      "cell_type": "markdown",
      "metadata": {
        "id": "g6w6-VPsrXYj"
      },
      "source": [
        "<a name=\"task1\"></a>\n",
        "<div class=\"alert alert-danger alertdanger\" style=\"margin-top: 20px\">\n",
        "\n",
        "## <h2 id=\"task1\">Завдання  #1: </h2>\n",
        "\n",
        "<p>Дослідити ознаки, побудувавши їх візуалізації</p>\n",
        "</div>\n"
      ]
    },
    {
      "cell_type": "markdown",
      "metadata": {
        "id": "Rs9Ykjo_rXYk"
      },
      "source": [
        "Зчитую дані з файлу у датафрейм"
      ]
    },
    {
      "cell_type": "code",
      "execution_count": null,
      "metadata": {
        "id": "RURRLXAurXYk",
        "colab": {
          "base_uri": "https://localhost:8080/"
        },
        "outputId": "20d45d2f-56f9-439c-cb15-382fcbaf8cf8"
      },
      "outputs": [
        {
          "output_type": "stream",
          "name": "stdout",
          "text": [
            "Mounted at /content/drive\n"
          ]
        }
      ],
      "source": [
        "# Напишіть ваш код нижче та натисніть Shift+Enter для виконання\n",
        "import pandas as pd\n",
        "import numpy as np\n",
        "from google.colab import drive\n",
        "import matplotlib.pyplot as plt\n",
        "import seaborn as sns\n",
        "%matplotlib inline\n",
        "drive.mount('/content/drive')\n",
        "\n",
        "path = \"/content/drive/My Drive/data/clean_data2.csv\""
      ]
    },
    {
      "cell_type": "markdown",
      "metadata": {
        "id": "GWS4qXCjrXYk"
      },
      "source": [
        "Будую графіки"
      ]
    },
    {
      "cell_type": "code",
      "execution_count": null,
      "metadata": {
        "id": "w_cNfycirXYk",
        "colab": {
          "base_uri": "https://localhost:8080/",
          "height": 621
        },
        "outputId": "abe30ffa-b326-4451-b24a-79680b3289f7"
      },
      "outputs": [
        {
          "output_type": "stream",
          "name": "stdout",
          "text": [
            "Country Name           object\n",
            "Region                 object\n",
            "GDP per capita        float64\n",
            "Population            float64\n",
            "CO2 emission          float64\n",
            "Area                    int64\n",
            "Population density    float64\n",
            "dtype: object\n"
          ]
        },
        {
          "output_type": "execute_result",
          "data": {
            "text/plain": [
              "(0.0, 10806555.307965936)"
            ]
          },
          "metadata": {},
          "execution_count": 2
        },
        {
          "output_type": "display_data",
          "data": {
            "text/plain": [
              "<Figure size 640x480 with 1 Axes>"
            ],
            "image/png": "[encoded data removed]"
          },
          "metadata": {}
        }
      ],
      "source": [
        "# Напишіть ваш код нижче та натисніть Shift+Enter для виконання\n",
        "\n",
        "df = pd.read_csv(path)\n",
        "print(df.dtypes)\n",
        "\n",
        "sns.regplot(x='GDP per capita', y='CO2 emission', data=df)\n",
        "plt.ylim(0,)\n"
      ]
    },
    {
      "cell_type": "markdown",
      "metadata": {
        "id": "U9JpgRscrXYl"
      },
      "source": [
        "<a name=\"task2\"></a>\n",
        "<div class=\"alert alert-danger alertdanger\" style=\"margin-top: 20px\">\n",
        "\n",
        "## <h2 id=\"task2\">Завдання  #2: </h2>\n",
        "\n",
        "<p>Порахувати кореляцію між всіма кількісними ознаками</p>\n",
        "</div>\n"
      ]
    },
    {
      "cell_type": "markdown",
      "metadata": {
        "id": "iO5cGA0HrXYm"
      },
      "source": [
        "Рахую кореляцію між всіма кількісними ознаками"
      ]
    },
    {
      "cell_type": "code",
      "execution_count": null,
      "metadata": {
        "id": "6HnWJ0TCrXYm",
        "colab": {
          "base_uri": "https://localhost:8080/",
          "height": 206
        },
        "outputId": "73d89c1e-d272-470d-ab42-98d4ef92aba0"
      },
      "outputs": [
        {
          "output_type": "execute_result",
          "data": {
            "text/plain": [
              "                    GDP per capita  Population  CO2 emission      Area  \\\n",
              "GDP per capita            1.000000   -0.047759      0.089094  0.063861   \n",
              "Population               -0.047759    1.000000      0.802232  0.453500   \n",
              "CO2 emission              0.089094    0.802232      1.000000  0.585512   \n",
              "Area                      0.063861    0.453500      0.585512  1.000000   \n",
              "Population density        0.243727   -0.028438     -0.017490 -0.064006   \n",
              "\n",
              "                    Population density  \n",
              "GDP per capita                0.243727  \n",
              "Population                   -0.028438  \n",
              "CO2 emission                 -0.017490  \n",
              "Area                         -0.064006  \n",
              "Population density            1.000000  "
            ],
            "text/html": [
              "\n",
              "  <div id=\"df-3f5614ad-4e06-4174-afbf-3955df12e51b\" class=\"colab-df-container\">\n",
              "    <div>\n",
              "<style scoped>\n",
              "    .dataframe tbody tr th:only-of-type {\n",
              "        vertical-align: middle;\n",
              "    }\n",
              "\n",
              "    .dataframe tbody tr th {\n",
              "        vertical-align: top;\n",
              "    }\n",
              "\n",
              "    .dataframe thead th {\n",
              "        text-align: right;\n",
              "    }\n",
              "</style>\n",
              "<table border=\"1\" class=\"dataframe\">\n",
              "  <thead>\n",
              "    <tr style=\"text-align: right;\">\n",
              "      <th></th>\n",
              "      <th>GDP per capita</th>\n",
              "      <th>Population</th>\n",
              "      <th>CO2 emission</th>\n",
              "      <th>Area</th>\n",
              "      <th>Population density</th>\n",
              "    </tr>\n",
              "  </thead>\n",
              "  <tbody>\n",
              "    <tr>\n",
              "      <th>GDP per capita</th>\n",
              "      <td>1.000000</td>\n",
              "      <td>-0.047759</td>\n",
              "      <td>0.089094</td>\n",
              "      <td>0.063861</td>\n",
              "      <td>0.243727</td>\n",
              "    </tr>\n",
              "    <tr>\n",
              "      <th>Population</th>\n",
              "      <td>-0.047759</td>\n",
              "      <td>1.000000</td>\n",
              "      <td>0.802232</td>\n",
              "      <td>0.453500</td>\n",
              "      <td>-0.028438</td>\n",
              "    </tr>\n",
              "    <tr>\n",
              "      <th>CO2 emission</th>\n",
              "      <td>0.089094</td>\n",
              "      <td>0.802232</td>\n",
              "      <td>1.000000</td>\n",
              "      <td>0.585512</td>\n",
              "      <td>-0.017490</td>\n",
              "    </tr>\n",
              "    <tr>\n",
              "      <th>Area</th>\n",
              "      <td>0.063861</td>\n",
              "      <td>0.453500</td>\n",
              "      <td>0.585512</td>\n",
              "      <td>1.000000</td>\n",
              "      <td>-0.064006</td>\n",
              "    </tr>\n",
              "    <tr>\n",
              "      <th>Population density</th>\n",
              "      <td>0.243727</td>\n",
              "      <td>-0.028438</td>\n",
              "      <td>-0.017490</td>\n",
              "      <td>-0.064006</td>\n",
              "      <td>1.000000</td>\n",
              "    </tr>\n",
              "  </tbody>\n",
              "</table>\n",
              "</div>\n",
              "    <div class=\"colab-df-buttons\">\n",
              "\n",
              "  <div class=\"colab-df-container\">\n",
              "    <button class=\"colab-df-convert\" onclick=\"convertToInteractive('df-3f5614ad-4e06-4174-afbf-3955df12e51b')\"\n",
              "            title=\"Convert this dataframe to an interactive table.\"\n",
              "            style=\"display:none;\">\n",
              "\n",
              "  <svg xmlns=\"http://www.w3.org/2000/svg\" height=\"24px\" viewBox=\"0 -960 960 960\">\n",
              "    <path d=\"M120-120v-720h720v720H120Zm60-500h600v-160H180v160Zm220 220h160v-160H400v160Zm0 220h160v-160H400v160ZM180-400h160v-160H180v160Zm440 0h160v-160H620v160ZM180-180h160v-160H180v160Zm440 0h160v-160H620v160Z\"/>\n",
              "  </svg>\n",
              "    </button>\n",
              "\n",
              "  <style>\n",
              "    .colab-df-container {\n",
              "      display:flex;\n",
              "      gap: 12px;\n",
              "    }\n",
              "\n",
              "    .colab-df-convert {\n",
              "      background-color: #E8F0FE;\n",
              "      border: none;\n",
              "      border-radius: 50%;\n",
              "      cursor: pointer;\n",
              "      display: none;\n",
              "      fill: #1967D2;\n",
              "      height: 32px;\n",
              "      padding: 0 0 0 0;\n",
              "      width: 32px;\n",
              "    }\n",
              "\n",
              "    .colab-df-convert:hover {\n",
              "      background-color: #E2EBFA;\n",
              "      box-shadow: 0px 1px 2px rgba(60, 64, 67, 0.3), 0px 1px 3px 1px rgba(60, 64, 67, 0.15);\n",
              "      fill: #174EA6;\n",
              "    }\n",
              "\n",
              "    .colab-df-buttons div {\n",
              "      margin-bottom: 4px;\n",
              "    }\n",
              "\n",
              "    [theme=dark] .colab-df-convert {\n",
              "      background-color: #3B4455;\n",
              "      fill: #D2E3FC;\n",
              "    }\n",
              "\n",
              "    [theme=dark] .colab-df-convert:hover {\n",
              "      background-color: #434B5C;\n",
              "      box-shadow: 0px 1px 3px 1px rgba(0, 0, 0, 0.15);\n",
              "      filter: drop-shadow(0px 1px 2px rgba(0, 0, 0, 0.3));\n",
              "      fill: #FFFFFF;\n",
              "    }\n",
              "  </style>\n",
              "\n",
              "    <script>\n",
              "      const buttonEl =\n",
              "        document.querySelector('#df-3f5614ad-4e06-4174-afbf-3955df12e51b button.colab-df-convert');\n",
              "      buttonEl.style.display =\n",
              "        google.colab.kernel.accessAllowed ? 'block' : 'none';\n",
              "\n",
              "      async function convertToInteractive(key) {\n",
              "        const element = document.querySelector('#df-3f5614ad-4e06-4174-afbf-3955df12e51b');\n",
              "        const dataTable =\n",
              "          await google.colab.kernel.invokeFunction('convertToInteractive',\n",
              "                                                    [key], {});\n",
              "        if (!dataTable) return;\n",
              "\n",
              "        const docLinkHtml = 'Like what you see? Visit the ' +\n",
              "          '<a target=\"_blank\" href=https://colab.research.google.com/notebooks/data_table.ipynb>data table notebook</a>'\n",
              "          + ' to learn more about interactive tables.';\n",
              "        element.innerHTML = '';\n",
              "        dataTable['output_type'] = 'display_data';\n",
              "        await google.colab.output.renderOutput(dataTable, element);\n",
              "        const docLink = document.createElement('div');\n",
              "        docLink.innerHTML = docLinkHtml;\n",
              "        element.appendChild(docLink);\n",
              "      }\n",
              "    </script>\n",
              "  </div>\n",
              "\n",
              "\n",
              "<div id=\"df-5a0d0b5c-bd16-441c-b59b-61f088151cb3\">\n",
              "  <button class=\"colab-df-quickchart\" onclick=\"quickchart('df-5a0d0b5c-bd16-441c-b59b-61f088151cb3')\"\n",
              "            title=\"Suggest charts\"\n",
              "            style=\"display:none;\">\n",
              "\n",
              "<svg xmlns=\"http://www.w3.org/2000/svg\" height=\"24px\"viewBox=\"0 0 24 24\"\n",
              "     width=\"24px\">\n",
              "    <g>\n",
              "        <path d=\"M19 3H5c-1.1 0-2 .9-2 2v14c0 1.1.9 2 2 2h14c1.1 0 2-.9 2-2V5c0-1.1-.9-2-2-2zM9 17H7v-7h2v7zm4 0h-2V7h2v10zm4 0h-2v-4h2v4z\"/>\n",
              "    </g>\n",
              "</svg>\n",
              "  </button>\n",
              "\n",
              "<style>\n",
              "  .colab-df-quickchart {\n",
              "      --bg-color: #E8F0FE;\n",
              "      --fill-color: #1967D2;\n",
              "      --hover-bg-color: #E2EBFA;\n",
              "      --hover-fill-color: #174EA6;\n",
              "      --disabled-fill-color: #AAA;\n",
              "      --disabled-bg-color: #DDD;\n",
              "  }\n",
              "\n",
              "  [theme=dark] .colab-df-quickchart {\n",
              "      --bg-color: #3B4455;\n",
              "      --fill-color: #D2E3FC;\n",
              "      --hover-bg-color: #434B5C;\n",
              "      --hover-fill-color: #FFFFFF;\n",
              "      --disabled-bg-color: #3B4455;\n",
              "      --disabled-fill-color: #666;\n",
              "  }\n",
              "\n",
              "  .colab-df-quickchart {\n",
              "    background-color: var(--bg-color);\n",
              "    border: none;\n",
              "    border-radius: 50%;\n",
              "    cursor: pointer;\n",
              "    display: none;\n",
              "    fill: var(--fill-color);\n",
              "    height: 32px;\n",
              "    padding: 0;\n",
              "    width: 32px;\n",
              "  }\n",
              "\n",
              "  .colab-df-quickchart:hover {\n",
              "    background-color: var(--hover-bg-color);\n",
              "    box-shadow: 0 1px 2px rgba(60, 64, 67, 0.3), 0 1px 3px 1px rgba(60, 64, 67, 0.15);\n",
              "    fill: var(--button-hover-fill-color);\n",
              "  }\n",
              "\n",
              "  .colab-df-quickchart-complete:disabled,\n",
              "  .colab-df-quickchart-complete:disabled:hover {\n",
              "    background-color: var(--disabled-bg-color);\n",
              "    fill: var(--disabled-fill-color);\n",
              "    box-shadow: none;\n",
              "  }\n",
              "\n",
              "  .colab-df-spinner {\n",
              "    border: 2px solid var(--fill-color);\n",
              "    border-color: transparent;\n",
              "    border-bottom-color: var(--fill-color);\n",
              "    animation:\n",
              "      spin 1s steps(1) infinite;\n",
              "  }\n",
              "\n",
              "  @keyframes spin {\n",
              "    0% {\n",
              "      border-color: transparent;\n",
              "      border-bottom-color: var(--fill-color);\n",
              "      border-left-color: var(--fill-color);\n",
              "    }\n",
              "    20% {\n",
              "      border-color: transparent;\n",
              "      border-left-color: var(--fill-color);\n",
              "      border-top-color: var(--fill-color);\n",
              "    }\n",
              "    30% {\n",
              "      border-color: transparent;\n",
              "      border-left-color: var(--fill-color);\n",
              "      border-top-color: var(--fill-color);\n",
              "      border-right-color: var(--fill-color);\n",
              "    }\n",
              "    40% {\n",
              "      border-color: transparent;\n",
              "      border-right-color: var(--fill-color);\n",
              "      border-top-color: var(--fill-color);\n",
              "    }\n",
              "    60% {\n",
              "      border-color: transparent;\n",
              "      border-right-color: var(--fill-color);\n",
              "    }\n",
              "    80% {\n",
              "      border-color: transparent;\n",
              "      border-right-color: var(--fill-color);\n",
              "      border-bottom-color: var(--fill-color);\n",
              "    }\n",
              "    90% {\n",
              "      border-color: transparent;\n",
              "      border-bottom-color: var(--fill-color);\n",
              "    }\n",
              "  }\n",
              "</style>\n",
              "\n",
              "  <script>\n",
              "    async function quickchart(key) {\n",
              "      const quickchartButtonEl =\n",
              "        document.querySelector('#' + key + ' button');\n",
              "      quickchartButtonEl.disabled = true;  // To prevent multiple clicks.\n",
              "      quickchartButtonEl.classList.add('colab-df-spinner');\n",
              "      try {\n",
              "        const charts = await google.colab.kernel.invokeFunction(\n",
              "            'suggestCharts', [key], {});\n",
              "      } catch (error) {\n",
              "        console.error('Error during call to suggestCharts:', error);\n",
              "      }\n",
              "      quickchartButtonEl.classList.remove('colab-df-spinner');\n",
              "      quickchartButtonEl.classList.add('colab-df-quickchart-complete');\n",
              "    }\n",
              "    (() => {\n",
              "      let quickchartButtonEl =\n",
              "        document.querySelector('#df-5a0d0b5c-bd16-441c-b59b-61f088151cb3 button');\n",
              "      quickchartButtonEl.style.display =\n",
              "        google.colab.kernel.accessAllowed ? 'block' : 'none';\n",
              "    })();\n",
              "  </script>\n",
              "</div>\n",
              "    </div>\n",
              "  </div>\n"
            ],
            "application/vnd.google.colaboratory.intrinsic+json": {
              "type": "dataframe",
              "summary": "{\n  \"name\": \"df[['GDP per capita', 'Population', 'CO2 emission', 'Area', 'Population density']]\",\n  \"rows\": 5,\n  \"fields\": [\n    {\n      \"column\": \"GDP per capita\",\n      \"properties\": {\n        \"dtype\": \"number\",\n        \"std\": 0.42124249441993716,\n        \"min\": -0.047758936304714374,\n        \"max\": 1.0,\n        \"num_unique_values\": 5,\n        \"samples\": [\n          -0.047758936304714374,\n          0.24372693682195548,\n          0.08909442180647849\n        ],\n        \"semantic_type\": \"\",\n        \"description\": \"\"\n      }\n    },\n    {\n      \"column\": \"Population\",\n      \"properties\": {\n        \"dtype\": \"number\",\n        \"std\": 0.4749349780796702,\n        \"min\": -0.047758936304714374,\n        \"max\": 1.0,\n        \"num_unique_values\": 5,\n        \"samples\": [\n          1.0,\n          -0.028437767877487957,\n          0.8022315895757173\n        ],\n        \"semantic_type\": \"\",\n        \"description\": \"\"\n      }\n    },\n    {\n      \"column\": \"CO2 emission\",\n      \"properties\": {\n        \"dtype\": \"number\",\n        \"std\": 0.44299136154443813,\n        \"min\": -0.017490379742797525,\n        \"max\": 1.0,\n        \"num_unique_values\": 5,\n        \"samples\": [\n          0.8022315895757173,\n          -0.017490379742797525,\n          1.0\n        ],\n        \"semantic_type\": \"\",\n        \"description\": \"\"\n      }\n    },\n    {\n      \"column\": \"Area\",\n      \"properties\": {\n        \"dtype\": \"number\",\n        \"std\": 0.4258126955857524,\n        \"min\": -0.06400591270354078,\n        \"max\": 1.0,\n        \"num_unique_values\": 5,\n        \"samples\": [\n          0.45350002818212354,\n          -0.06400591270354078,\n          0.5855119221735577\n        ],\n        \"semantic_type\": \"\",\n        \"description\": \"\"\n      }\n    },\n    {\n      \"column\": \"Population density\",\n      \"properties\": {\n        \"dtype\": \"number\",\n        \"std\": 0.4493097314936122,\n        \"min\": -0.06400591270354078,\n        \"max\": 1.0,\n        \"num_unique_values\": 5,\n        \"samples\": [\n          -0.028437767877487957,\n          1.0,\n          -0.017490379742797525\n        ],\n        \"semantic_type\": \"\",\n        \"description\": \"\"\n      }\n    }\n  ]\n}"
            }
          },
          "metadata": {},
          "execution_count": 13
        }
      ],
      "source": [
        "# Напишіть ваш код нижче та натисніть Shift+Enter для виконання\n",
        "df[['GDP per capita', 'Population', 'CO2 emission', 'Area', 'Population density']].corr()"
      ]
    },
    {
      "cell_type": "markdown",
      "metadata": {
        "id": "2HLbe6CprXYn"
      },
      "source": [
        "<a name=\"task3\"></a>\n",
        "<div class=\"alert alert-danger alertdanger\" style=\"margin-top: 20px\">\n",
        "\n",
        "## <h2 id=\"task3\">Завдання  #3: </h2>\n",
        "\n",
        "<p>Побудувати діаграми розсіювання для кількісних ознак та 'CO2 emission'. Побудувати діаграму розмаху для 'CO2 emission' по регіонам. </p>\n",
        "<p>Візуально оцініть наявність та силу зв'язку між цими ознаками.</p>\n",
        "</div>\n"
      ]
    },
    {
      "cell_type": "markdown",
      "metadata": {
        "id": "ysy75XjirXYn"
      },
      "source": [
        "Будую діаграму розсіювання для кількісних ознак та 'CO2 emission'"
      ]
    },
    {
      "cell_type": "code",
      "execution_count": null,
      "metadata": {
        "id": "nrecpaJ2rXYo",
        "colab": {
          "base_uri": "https://localhost:8080/",
          "height": 482
        },
        "outputId": "70fe6887-4a4e-4b50-d557-69b10f5379c1"
      },
      "outputs": [
        {
          "output_type": "execute_result",
          "data": {
            "text/plain": [
              "(0.0, 10806760.39289869)"
            ]
          },
          "metadata": {},
          "execution_count": 21
        },
        {
          "output_type": "display_data",
          "data": {
            "text/plain": [
              "<Figure size 640x480 with 1 Axes>"
            ],
            "image/png": "[encoded data removed]"
          },
          "metadata": {}
        }
      ],
      "source": [
        "# Напишіть ваш код нижче та натисніть Shift+Enter для виконання\n",
        "sns.regplot(x='GDP per capita', y='CO2 emission', data=df)\n",
        "plt.ylim(0,)"
      ]
    },
    {
      "cell_type": "markdown",
      "source": [
        "Зі збільшенням ввп на душу населення викиди СО2 трохи зменшуються. Це вказує на слабку кореляцію між цими двома ознаками. Однак, є винятки, коли країни з високим ВВП мають відносно високі показники викидів CO2\n",
        "\n"
      ],
      "metadata": {
        "id": "XFV0saMvJIEy"
      }
    },
    {
      "cell_type": "code",
      "source": [
        "sns.regplot(x='Population', y='CO2 emission', data=df)\n",
        "plt.ylim(0,)"
      ],
      "metadata": {
        "colab": {
          "base_uri": "https://localhost:8080/",
          "height": 482
        },
        "id": "b4IRcjbTHxaK",
        "outputId": "02726b29-c3af-43fb-d9b9-a1496f9766b4"
      },
      "execution_count": null,
      "outputs": [
        {
          "output_type": "execute_result",
          "data": {
            "text/plain": [
              "(0.0, 11742409.51649068)"
            ]
          },
          "metadata": {},
          "execution_count": 16
        },
        {
          "output_type": "display_data",
          "data": {
            "text/plain": [
              "<Figure size 640x480 with 1 Axes>"
            ],
            "image/png": "[encoded data removed]"
          },
          "metadata": {}
        }
      ]
    },
    {
      "cell_type": "markdown",
      "source": [
        " Цей графік вказує на майже відсутність кореляції між цими двома ознаками. Однак, є винятки, коли країни з високою популяцією мають відносно високі показники викидів CO2"
      ],
      "metadata": {
        "id": "94ftAkQ2K_Jm"
      }
    },
    {
      "cell_type": "code",
      "source": [
        "sns.regplot(x='Area', y='CO2 emission', data=df)\n",
        "plt.ylim(0,)"
      ],
      "metadata": {
        "id": "hDN4NtJQKxmk"
      },
      "execution_count": null,
      "outputs": []
    },
    {
      "cell_type": "markdown",
      "source": [
        "Зі збільшенням площі викиди СО2 майже не змінюються. Це вказує на слабку кореляцію між цими двома ознаками. Однак, є винятки, коли країни з великою площею мають відносно високі показники викидів CO2"
      ],
      "metadata": {
        "id": "bYcgjgLhMz31"
      }
    },
    {
      "cell_type": "code",
      "source": [
        "sns.regplot(x='Population density', y='CO2 emission', data=df)\n",
        "plt.ylim(0,)"
      ],
      "metadata": {
        "colab": {
          "base_uri": "https://localhost:8080/",
          "height": 482
        },
        "id": "fw7M-RLFK3w1",
        "outputId": "10f70957-0781-4637-b02f-38ba0b96463c"
      },
      "execution_count": null,
      "outputs": [
        {
          "output_type": "execute_result",
          "data": {
            "text/plain": [
              "(0.0, 10836279.8842196)"
            ]
          },
          "metadata": {},
          "execution_count": 23
        },
        {
          "output_type": "display_data",
          "data": {
            "text/plain": [
              "<Figure size 640x480 with 1 Axes>"
            ],
            "image/png": "[encoded data removed]"
          },
          "metadata": {}
        }
      ]
    },
    {
      "cell_type": "markdown",
      "source": [
        "Ця діаграма не показує кореляцію між цими двома показниками"
      ],
      "metadata": {
        "id": "UGfuKy5iQIqb"
      }
    },
    {
      "cell_type": "markdown",
      "metadata": {
        "id": "fIhbEtNArXYo"
      },
      "source": [
        "Будую діаграму розмаху для 'CO2 emission' по регіонам"
      ]
    },
    {
      "cell_type": "code",
      "execution_count": null,
      "metadata": {
        "id": "mrxSI7WPrXYo",
        "colab": {
          "base_uri": "https://localhost:8080/",
          "height": 638
        },
        "outputId": "5321ba81-2b10-48bc-a49e-c2a81f73ecdc"
      },
      "outputs": [
        {
          "output_type": "display_data",
          "data": {
            "text/plain": [
              "<Figure size 640x480 with 1 Axes>"
            ],
            "image/png": "[encoded data removed]"
          },
          "metadata": {}
        }
      ],
      "source": [
        "# Напишіть ваш код нижче та натисніть Shift+Enter для виконання\n",
        "sns.boxplot(x='Region', y='CO2 emission', data=df)\n",
        "plt.xticks(rotation=90)\n",
        "plt.show()\n",
        "\n"
      ]
    },
    {
      "cell_type": "markdown",
      "source": [
        "Ми бачимо що розподіл по регіонах сильно збігається, тому регіон не буде хорошим показником CO2,лише North America вирізняється"
      ],
      "metadata": {
        "id": "qKVv-uPYRD5t"
      }
    },
    {
      "cell_type": "markdown",
      "metadata": {
        "id": "Zgy3tkCPrXYo"
      },
      "source": [
        "<a name=\"task4\"></a>\n",
        "<div class=\"alert alert-danger alertdanger\" style=\"margin-top: 20px\">\n",
        "\n",
        "## <h2 id=\"task4\">Завдання  #4: </h2>\n",
        "\n",
        "<p>Які кількісні ознаки можуть бути предикторами кількості викидів СО2?</p>\n",
        "</div>\n"
      ]
    },
    {
      "cell_type": "markdown",
      "metadata": {
        "id": "k_9Q6V9yrXYo"
      },
      "source": [
        "Обчислюю коефіцієнт кореляції Пірсона та P-value для всіх кількісних змінних та 'CO2 emission'"
      ]
    },
    {
      "cell_type": "code",
      "execution_count": null,
      "metadata": {
        "id": "bXB9ps4orXYo",
        "colab": {
          "base_uri": "https://localhost:8080/",
          "height": 175
        },
        "outputId": "28d5b84f-924e-418f-9de7-16c8d3900307"
      },
      "outputs": [
        {
          "output_type": "execute_result",
          "data": {
            "text/plain": [
              "                index  Pearson Correlation Coefficient       P-value\n",
              "0      GDP per capita                         0.089094  1.910551e-01\n",
              "1          Population                         0.802232  4.637918e-50\n",
              "2                Area                         0.585512  2.315748e-21\n",
              "3  Population density                        -0.017490  7.978112e-01"
            ],
            "text/html": [
              "\n",
              "  <div id=\"df-efab3d30-21bf-4c82-9b6d-1ecf0aa4a5ff\" class=\"colab-df-container\">\n",
              "    <div>\n",
              "<style scoped>\n",
              "    .dataframe tbody tr th:only-of-type {\n",
              "        vertical-align: middle;\n",
              "    }\n",
              "\n",
              "    .dataframe tbody tr th {\n",
              "        vertical-align: top;\n",
              "    }\n",
              "\n",
              "    .dataframe thead th {\n",
              "        text-align: right;\n",
              "    }\n",
              "</style>\n",
              "<table border=\"1\" class=\"dataframe\">\n",
              "  <thead>\n",
              "    <tr style=\"text-align: right;\">\n",
              "      <th></th>\n",
              "      <th>index</th>\n",
              "      <th>Pearson Correlation Coefficient</th>\n",
              "      <th>P-value</th>\n",
              "    </tr>\n",
              "  </thead>\n",
              "  <tbody>\n",
              "    <tr>\n",
              "      <th>0</th>\n",
              "      <td>GDP per capita</td>\n",
              "      <td>0.089094</td>\n",
              "      <td>1.910551e-01</td>\n",
              "    </tr>\n",
              "    <tr>\n",
              "      <th>1</th>\n",
              "      <td>Population</td>\n",
              "      <td>0.802232</td>\n",
              "      <td>4.637918e-50</td>\n",
              "    </tr>\n",
              "    <tr>\n",
              "      <th>2</th>\n",
              "      <td>Area</td>\n",
              "      <td>0.585512</td>\n",
              "      <td>2.315748e-21</td>\n",
              "    </tr>\n",
              "    <tr>\n",
              "      <th>3</th>\n",
              "      <td>Population density</td>\n",
              "      <td>-0.017490</td>\n",
              "      <td>7.978112e-01</td>\n",
              "    </tr>\n",
              "  </tbody>\n",
              "</table>\n",
              "</div>\n",
              "    <div class=\"colab-df-buttons\">\n",
              "\n",
              "  <div class=\"colab-df-container\">\n",
              "    <button class=\"colab-df-convert\" onclick=\"convertToInteractive('df-efab3d30-21bf-4c82-9b6d-1ecf0aa4a5ff')\"\n",
              "            title=\"Convert this dataframe to an interactive table.\"\n",
              "            style=\"display:none;\">\n",
              "\n",
              "  <svg xmlns=\"http://www.w3.org/2000/svg\" height=\"24px\" viewBox=\"0 -960 960 960\">\n",
              "    <path d=\"M120-120v-720h720v720H120Zm60-500h600v-160H180v160Zm220 220h160v-160H400v160Zm0 220h160v-160H400v160ZM180-400h160v-160H180v160Zm440 0h160v-160H620v160ZM180-180h160v-160H180v160Zm440 0h160v-160H620v160Z\"/>\n",
              "  </svg>\n",
              "    </button>\n",
              "\n",
              "  <style>\n",
              "    .colab-df-container {\n",
              "      display:flex;\n",
              "      gap: 12px;\n",
              "    }\n",
              "\n",
              "    .colab-df-convert {\n",
              "      background-color: #E8F0FE;\n",
              "      border: none;\n",
              "      border-radius: 50%;\n",
              "      cursor: pointer;\n",
              "      display: none;\n",
              "      fill: #1967D2;\n",
              "      height: 32px;\n",
              "      padding: 0 0 0 0;\n",
              "      width: 32px;\n",
              "    }\n",
              "\n",
              "    .colab-df-convert:hover {\n",
              "      background-color: #E2EBFA;\n",
              "      box-shadow: 0px 1px 2px rgba(60, 64, 67, 0.3), 0px 1px 3px 1px rgba(60, 64, 67, 0.15);\n",
              "      fill: #174EA6;\n",
              "    }\n",
              "\n",
              "    .colab-df-buttons div {\n",
              "      margin-bottom: 4px;\n",
              "    }\n",
              "\n",
              "    [theme=dark] .colab-df-convert {\n",
              "      background-color: #3B4455;\n",
              "      fill: #D2E3FC;\n",
              "    }\n",
              "\n",
              "    [theme=dark] .colab-df-convert:hover {\n",
              "      background-color: #434B5C;\n",
              "      box-shadow: 0px 1px 3px 1px rgba(0, 0, 0, 0.15);\n",
              "      filter: drop-shadow(0px 1px 2px rgba(0, 0, 0, 0.3));\n",
              "      fill: #FFFFFF;\n",
              "    }\n",
              "  </style>\n",
              "\n",
              "    <script>\n",
              "      const buttonEl =\n",
              "        document.querySelector('#df-efab3d30-21bf-4c82-9b6d-1ecf0aa4a5ff button.colab-df-convert');\n",
              "      buttonEl.style.display =\n",
              "        google.colab.kernel.accessAllowed ? 'block' : 'none';\n",
              "\n",
              "      async function convertToInteractive(key) {\n",
              "        const element = document.querySelector('#df-efab3d30-21bf-4c82-9b6d-1ecf0aa4a5ff');\n",
              "        const dataTable =\n",
              "          await google.colab.kernel.invokeFunction('convertToInteractive',\n",
              "                                                    [key], {});\n",
              "        if (!dataTable) return;\n",
              "\n",
              "        const docLinkHtml = 'Like what you see? Visit the ' +\n",
              "          '<a target=\"_blank\" href=https://colab.research.google.com/notebooks/data_table.ipynb>data table notebook</a>'\n",
              "          + ' to learn more about interactive tables.';\n",
              "        element.innerHTML = '';\n",
              "        dataTable['output_type'] = 'display_data';\n",
              "        await google.colab.output.renderOutput(dataTable, element);\n",
              "        const docLink = document.createElement('div');\n",
              "        docLink.innerHTML = docLinkHtml;\n",
              "        element.appendChild(docLink);\n",
              "      }\n",
              "    </script>\n",
              "  </div>\n",
              "\n",
              "\n",
              "<div id=\"df-f8699763-bba1-47cc-9841-a95b14c33017\">\n",
              "  <button class=\"colab-df-quickchart\" onclick=\"quickchart('df-f8699763-bba1-47cc-9841-a95b14c33017')\"\n",
              "            title=\"Suggest charts\"\n",
              "            style=\"display:none;\">\n",
              "\n",
              "<svg xmlns=\"http://www.w3.org/2000/svg\" height=\"24px\"viewBox=\"0 0 24 24\"\n",
              "     width=\"24px\">\n",
              "    <g>\n",
              "        <path d=\"M19 3H5c-1.1 0-2 .9-2 2v14c0 1.1.9 2 2 2h14c1.1 0 2-.9 2-2V5c0-1.1-.9-2-2-2zM9 17H7v-7h2v7zm4 0h-2V7h2v10zm4 0h-2v-4h2v4z\"/>\n",
              "    </g>\n",
              "</svg>\n",
              "  </button>\n",
              "\n",
              "<style>\n",
              "  .colab-df-quickchart {\n",
              "      --bg-color: #E8F0FE;\n",
              "      --fill-color: #1967D2;\n",
              "      --hover-bg-color: #E2EBFA;\n",
              "      --hover-fill-color: #174EA6;\n",
              "      --disabled-fill-color: #AAA;\n",
              "      --disabled-bg-color: #DDD;\n",
              "  }\n",
              "\n",
              "  [theme=dark] .colab-df-quickchart {\n",
              "      --bg-color: #3B4455;\n",
              "      --fill-color: #D2E3FC;\n",
              "      --hover-bg-color: #434B5C;\n",
              "      --hover-fill-color: #FFFFFF;\n",
              "      --disabled-bg-color: #3B4455;\n",
              "      --disabled-fill-color: #666;\n",
              "  }\n",
              "\n",
              "  .colab-df-quickchart {\n",
              "    background-color: var(--bg-color);\n",
              "    border: none;\n",
              "    border-radius: 50%;\n",
              "    cursor: pointer;\n",
              "    display: none;\n",
              "    fill: var(--fill-color);\n",
              "    height: 32px;\n",
              "    padding: 0;\n",
              "    width: 32px;\n",
              "  }\n",
              "\n",
              "  .colab-df-quickchart:hover {\n",
              "    background-color: var(--hover-bg-color);\n",
              "    box-shadow: 0 1px 2px rgba(60, 64, 67, 0.3), 0 1px 3px 1px rgba(60, 64, 67, 0.15);\n",
              "    fill: var(--button-hover-fill-color);\n",
              "  }\n",
              "\n",
              "  .colab-df-quickchart-complete:disabled,\n",
              "  .colab-df-quickchart-complete:disabled:hover {\n",
              "    background-color: var(--disabled-bg-color);\n",
              "    fill: var(--disabled-fill-color);\n",
              "    box-shadow: none;\n",
              "  }\n",
              "\n",
              "  .colab-df-spinner {\n",
              "    border: 2px solid var(--fill-color);\n",
              "    border-color: transparent;\n",
              "    border-bottom-color: var(--fill-color);\n",
              "    animation:\n",
              "      spin 1s steps(1) infinite;\n",
              "  }\n",
              "\n",
              "  @keyframes spin {\n",
              "    0% {\n",
              "      border-color: transparent;\n",
              "      border-bottom-color: var(--fill-color);\n",
              "      border-left-color: var(--fill-color);\n",
              "    }\n",
              "    20% {\n",
              "      border-color: transparent;\n",
              "      border-left-color: var(--fill-color);\n",
              "      border-top-color: var(--fill-color);\n",
              "    }\n",
              "    30% {\n",
              "      border-color: transparent;\n",
              "      border-left-color: var(--fill-color);\n",
              "      border-top-color: var(--fill-color);\n",
              "      border-right-color: var(--fill-color);\n",
              "    }\n",
              "    40% {\n",
              "      border-color: transparent;\n",
              "      border-right-color: var(--fill-color);\n",
              "      border-top-color: var(--fill-color);\n",
              "    }\n",
              "    60% {\n",
              "      border-color: transparent;\n",
              "      border-right-color: var(--fill-color);\n",
              "    }\n",
              "    80% {\n",
              "      border-color: transparent;\n",
              "      border-right-color: var(--fill-color);\n",
              "      border-bottom-color: var(--fill-color);\n",
              "    }\n",
              "    90% {\n",
              "      border-color: transparent;\n",
              "      border-bottom-color: var(--fill-color);\n",
              "    }\n",
              "  }\n",
              "</style>\n",
              "\n",
              "  <script>\n",
              "    async function quickchart(key) {\n",
              "      const quickchartButtonEl =\n",
              "        document.querySelector('#' + key + ' button');\n",
              "      quickchartButtonEl.disabled = true;  // To prevent multiple clicks.\n",
              "      quickchartButtonEl.classList.add('colab-df-spinner');\n",
              "      try {\n",
              "        const charts = await google.colab.kernel.invokeFunction(\n",
              "            'suggestCharts', [key], {});\n",
              "      } catch (error) {\n",
              "        console.error('Error during call to suggestCharts:', error);\n",
              "      }\n",
              "      quickchartButtonEl.classList.remove('colab-df-spinner');\n",
              "      quickchartButtonEl.classList.add('colab-df-quickchart-complete');\n",
              "    }\n",
              "    (() => {\n",
              "      let quickchartButtonEl =\n",
              "        document.querySelector('#df-f8699763-bba1-47cc-9841-a95b14c33017 button');\n",
              "      quickchartButtonEl.style.display =\n",
              "        google.colab.kernel.accessAllowed ? 'block' : 'none';\n",
              "    })();\n",
              "  </script>\n",
              "</div>\n",
              "    </div>\n",
              "  </div>\n"
            ],
            "application/vnd.google.colaboratory.intrinsic+json": {
              "type": "dataframe",
              "variable_name": "df_corr",
              "summary": "{\n  \"name\": \"df_corr\",\n  \"rows\": 4,\n  \"fields\": [\n    {\n      \"column\": \"index\",\n      \"properties\": {\n        \"dtype\": \"string\",\n        \"num_unique_values\": 4,\n        \"samples\": [\n          \"Population\",\n          \"Population density\",\n          \"GDP per capita\"\n        ],\n        \"semantic_type\": \"\",\n        \"description\": \"\"\n      }\n    },\n    {\n      \"column\": \"Pearson Correlation Coefficient\",\n      \"properties\": {\n        \"dtype\": \"number\",\n        \"std\": 0.39252161001918934,\n        \"min\": -0.017490379742797525,\n        \"max\": 0.8022315895757172,\n        \"num_unique_values\": 4,\n        \"samples\": [\n          0.8022315895757172,\n          -0.017490379742797525,\n          0.08909442180647847\n        ],\n        \"semantic_type\": \"\",\n        \"description\": \"\"\n      }\n    },\n    {\n      \"column\": \"P-value\",\n      \"properties\": {\n        \"dtype\": \"number\",\n        \"std\": 0.37795087466567534,\n        \"min\": 4.637918023642536e-50,\n        \"max\": 0.7978111739090938,\n        \"num_unique_values\": 4,\n        \"samples\": [\n          4.637918023642536e-50,\n          0.7978111739090938,\n          0.19105512270111474\n        ],\n        \"semantic_type\": \"\",\n        \"description\": \"\"\n      }\n    }\n  ]\n}"
            }
          },
          "metadata": {},
          "execution_count": 4
        }
      ],
      "source": [
        "# Напишіть ваш код нижче та натисніть Shift+Enter для виконання\n",
        "from scipy import stats\n",
        "\n",
        "variables = ['GDP per capita', 'Population', 'Area', 'Population density']\n",
        "\n",
        "\n",
        "correlations = [stats.pearsonr(df[var], df['CO2 emission']) for var in variables]\n",
        "\n",
        "\n",
        "df_corr = pd.DataFrame(correlations, columns=['Pearson Correlation Coefficient', 'P-value'], index=variables)\n",
        "df_corr.reset_index(inplace=True)\n",
        "\n",
        "df_corr\n"
      ]
    },
    {
      "cell_type": "markdown",
      "source": [
        "Кількість населення та площа країни можуть бути важливими факторами, що впливають на обсяг викидів CO2. Це підтверджується сильною та помірною кореляціями Пірсона відповідно, а також значенням Р-value < 1e-3, що свідчить про статистичну значимість цих кореляцій."
      ],
      "metadata": {
        "id": "9J8JLrEVUMTk"
      }
    },
    {
      "cell_type": "markdown",
      "metadata": {
        "id": "_koCfIkSrXYp"
      },
      "source": [
        "<a name=\"task5\"></a>\n",
        "<div class=\"alert alert-danger alertdanger\" style=\"margin-top: 20px\">\n",
        "\n",
        "## <h2 id=\"task5\">Завдання  #5: </h2>\n",
        "\n",
        "<p>Виконати дисперсійний аналіз для кількості викидів СО2, згрупувати дані по регіонам</p>\n",
        "</div>\n"
      ]
    },
    {
      "cell_type": "markdown",
      "metadata": {
        "id": "SIUji9rvrXYp"
      },
      "source": [
        "Групую дані, щоб побачити чи впливає 'Region' на 'CO2 emission'."
      ]
    },
    {
      "cell_type": "code",
      "execution_count": null,
      "metadata": {
        "id": "VRS7sbn1rXYp",
        "colab": {
          "base_uri": "https://localhost:8080/",
          "height": 300
        },
        "outputId": "af0fc155-27bd-4885-f5f5-af06e2ff6879"
      },
      "outputs": [
        {
          "output_type": "execute_result",
          "data": {
            "text/plain": [
              "                            CO2 emission\n",
              "Region                                  \n",
              "East Asia & Pacific         3.918692e+05\n",
              "Europe & Central Asia       1.217805e+05\n",
              "Latin America & Caribbean   5.682480e+04\n",
              "Middle East & North Africa  1.312287e+05\n",
              "North America               1.930683e+06\n",
              "South Asia                  3.145543e+05\n",
              "Sub-Saharan Africa          1.700846e+04"
            ],
            "text/html": [
              "\n",
              "  <div id=\"df-8e6b44f9-bd35-460d-8a1d-9b33a4d9c1aa\" class=\"colab-df-container\">\n",
              "    <div>\n",
              "<style scoped>\n",
              "    .dataframe tbody tr th:only-of-type {\n",
              "        vertical-align: middle;\n",
              "    }\n",
              "\n",
              "    .dataframe tbody tr th {\n",
              "        vertical-align: top;\n",
              "    }\n",
              "\n",
              "    .dataframe thead th {\n",
              "        text-align: right;\n",
              "    }\n",
              "</style>\n",
              "<table border=\"1\" class=\"dataframe\">\n",
              "  <thead>\n",
              "    <tr style=\"text-align: right;\">\n",
              "      <th></th>\n",
              "      <th>CO2 emission</th>\n",
              "    </tr>\n",
              "    <tr>\n",
              "      <th>Region</th>\n",
              "      <th></th>\n",
              "    </tr>\n",
              "  </thead>\n",
              "  <tbody>\n",
              "    <tr>\n",
              "      <th>East Asia &amp; Pacific</th>\n",
              "      <td>3.918692e+05</td>\n",
              "    </tr>\n",
              "    <tr>\n",
              "      <th>Europe &amp; Central Asia</th>\n",
              "      <td>1.217805e+05</td>\n",
              "    </tr>\n",
              "    <tr>\n",
              "      <th>Latin America &amp; Caribbean</th>\n",
              "      <td>5.682480e+04</td>\n",
              "    </tr>\n",
              "    <tr>\n",
              "      <th>Middle East &amp; North Africa</th>\n",
              "      <td>1.312287e+05</td>\n",
              "    </tr>\n",
              "    <tr>\n",
              "      <th>North America</th>\n",
              "      <td>1.930683e+06</td>\n",
              "    </tr>\n",
              "    <tr>\n",
              "      <th>South Asia</th>\n",
              "      <td>3.145543e+05</td>\n",
              "    </tr>\n",
              "    <tr>\n",
              "      <th>Sub-Saharan Africa</th>\n",
              "      <td>1.700846e+04</td>\n",
              "    </tr>\n",
              "  </tbody>\n",
              "</table>\n",
              "</div>\n",
              "    <div class=\"colab-df-buttons\">\n",
              "\n",
              "  <div class=\"colab-df-container\">\n",
              "    <button class=\"colab-df-convert\" onclick=\"convertToInteractive('df-8e6b44f9-bd35-460d-8a1d-9b33a4d9c1aa')\"\n",
              "            title=\"Convert this dataframe to an interactive table.\"\n",
              "            style=\"display:none;\">\n",
              "\n",
              "  <svg xmlns=\"http://www.w3.org/2000/svg\" height=\"24px\" viewBox=\"0 -960 960 960\">\n",
              "    <path d=\"M120-120v-720h720v720H120Zm60-500h600v-160H180v160Zm220 220h160v-160H400v160Zm0 220h160v-160H400v160ZM180-400h160v-160H180v160Zm440 0h160v-160H620v160ZM180-180h160v-160H180v160Zm440 0h160v-160H620v160Z\"/>\n",
              "  </svg>\n",
              "    </button>\n",
              "\n",
              "  <style>\n",
              "    .colab-df-container {\n",
              "      display:flex;\n",
              "      gap: 12px;\n",
              "    }\n",
              "\n",
              "    .colab-df-convert {\n",
              "      background-color: #E8F0FE;\n",
              "      border: none;\n",
              "      border-radius: 50%;\n",
              "      cursor: pointer;\n",
              "      display: none;\n",
              "      fill: #1967D2;\n",
              "      height: 32px;\n",
              "      padding: 0 0 0 0;\n",
              "      width: 32px;\n",
              "    }\n",
              "\n",
              "    .colab-df-convert:hover {\n",
              "      background-color: #E2EBFA;\n",
              "      box-shadow: 0px 1px 2px rgba(60, 64, 67, 0.3), 0px 1px 3px 1px rgba(60, 64, 67, 0.15);\n",
              "      fill: #174EA6;\n",
              "    }\n",
              "\n",
              "    .colab-df-buttons div {\n",
              "      margin-bottom: 4px;\n",
              "    }\n",
              "\n",
              "    [theme=dark] .colab-df-convert {\n",
              "      background-color: #3B4455;\n",
              "      fill: #D2E3FC;\n",
              "    }\n",
              "\n",
              "    [theme=dark] .colab-df-convert:hover {\n",
              "      background-color: #434B5C;\n",
              "      box-shadow: 0px 1px 3px 1px rgba(0, 0, 0, 0.15);\n",
              "      filter: drop-shadow(0px 1px 2px rgba(0, 0, 0, 0.3));\n",
              "      fill: #FFFFFF;\n",
              "    }\n",
              "  </style>\n",
              "\n",
              "    <script>\n",
              "      const buttonEl =\n",
              "        document.querySelector('#df-8e6b44f9-bd35-460d-8a1d-9b33a4d9c1aa button.colab-df-convert');\n",
              "      buttonEl.style.display =\n",
              "        google.colab.kernel.accessAllowed ? 'block' : 'none';\n",
              "\n",
              "      async function convertToInteractive(key) {\n",
              "        const element = document.querySelector('#df-8e6b44f9-bd35-460d-8a1d-9b33a4d9c1aa');\n",
              "        const dataTable =\n",
              "          await google.colab.kernel.invokeFunction('convertToInteractive',\n",
              "                                                    [key], {});\n",
              "        if (!dataTable) return;\n",
              "\n",
              "        const docLinkHtml = 'Like what you see? Visit the ' +\n",
              "          '<a target=\"_blank\" href=https://colab.research.google.com/notebooks/data_table.ipynb>data table notebook</a>'\n",
              "          + ' to learn more about interactive tables.';\n",
              "        element.innerHTML = '';\n",
              "        dataTable['output_type'] = 'display_data';\n",
              "        await google.colab.output.renderOutput(dataTable, element);\n",
              "        const docLink = document.createElement('div');\n",
              "        docLink.innerHTML = docLinkHtml;\n",
              "        element.appendChild(docLink);\n",
              "      }\n",
              "    </script>\n",
              "  </div>\n",
              "\n",
              "\n",
              "<div id=\"df-613846ce-a5d1-4a42-83c4-ff1797c20fa6\">\n",
              "  <button class=\"colab-df-quickchart\" onclick=\"quickchart('df-613846ce-a5d1-4a42-83c4-ff1797c20fa6')\"\n",
              "            title=\"Suggest charts\"\n",
              "            style=\"display:none;\">\n",
              "\n",
              "<svg xmlns=\"http://www.w3.org/2000/svg\" height=\"24px\"viewBox=\"0 0 24 24\"\n",
              "     width=\"24px\">\n",
              "    <g>\n",
              "        <path d=\"M19 3H5c-1.1 0-2 .9-2 2v14c0 1.1.9 2 2 2h14c1.1 0 2-.9 2-2V5c0-1.1-.9-2-2-2zM9 17H7v-7h2v7zm4 0h-2V7h2v10zm4 0h-2v-4h2v4z\"/>\n",
              "    </g>\n",
              "</svg>\n",
              "  </button>\n",
              "\n",
              "<style>\n",
              "  .colab-df-quickchart {\n",
              "      --bg-color: #E8F0FE;\n",
              "      --fill-color: #1967D2;\n",
              "      --hover-bg-color: #E2EBFA;\n",
              "      --hover-fill-color: #174EA6;\n",
              "      --disabled-fill-color: #AAA;\n",
              "      --disabled-bg-color: #DDD;\n",
              "  }\n",
              "\n",
              "  [theme=dark] .colab-df-quickchart {\n",
              "      --bg-color: #3B4455;\n",
              "      --fill-color: #D2E3FC;\n",
              "      --hover-bg-color: #434B5C;\n",
              "      --hover-fill-color: #FFFFFF;\n",
              "      --disabled-bg-color: #3B4455;\n",
              "      --disabled-fill-color: #666;\n",
              "  }\n",
              "\n",
              "  .colab-df-quickchart {\n",
              "    background-color: var(--bg-color);\n",
              "    border: none;\n",
              "    border-radius: 50%;\n",
              "    cursor: pointer;\n",
              "    display: none;\n",
              "    fill: var(--fill-color);\n",
              "    height: 32px;\n",
              "    padding: 0;\n",
              "    width: 32px;\n",
              "  }\n",
              "\n",
              "  .colab-df-quickchart:hover {\n",
              "    background-color: var(--hover-bg-color);\n",
              "    box-shadow: 0 1px 2px rgba(60, 64, 67, 0.3), 0 1px 3px 1px rgba(60, 64, 67, 0.15);\n",
              "    fill: var(--button-hover-fill-color);\n",
              "  }\n",
              "\n",
              "  .colab-df-quickchart-complete:disabled,\n",
              "  .colab-df-quickchart-complete:disabled:hover {\n",
              "    background-color: var(--disabled-bg-color);\n",
              "    fill: var(--disabled-fill-color);\n",
              "    box-shadow: none;\n",
              "  }\n",
              "\n",
              "  .colab-df-spinner {\n",
              "    border: 2px solid var(--fill-color);\n",
              "    border-color: transparent;\n",
              "    border-bottom-color: var(--fill-color);\n",
              "    animation:\n",
              "      spin 1s steps(1) infinite;\n",
              "  }\n",
              "\n",
              "  @keyframes spin {\n",
              "    0% {\n",
              "      border-color: transparent;\n",
              "      border-bottom-color: var(--fill-color);\n",
              "      border-left-color: var(--fill-color);\n",
              "    }\n",
              "    20% {\n",
              "      border-color: transparent;\n",
              "      border-left-color: var(--fill-color);\n",
              "      border-top-color: var(--fill-color);\n",
              "    }\n",
              "    30% {\n",
              "      border-color: transparent;\n",
              "      border-left-color: var(--fill-color);\n",
              "      border-top-color: var(--fill-color);\n",
              "      border-right-color: var(--fill-color);\n",
              "    }\n",
              "    40% {\n",
              "      border-color: transparent;\n",
              "      border-right-color: var(--fill-color);\n",
              "      border-top-color: var(--fill-color);\n",
              "    }\n",
              "    60% {\n",
              "      border-color: transparent;\n",
              "      border-right-color: var(--fill-color);\n",
              "    }\n",
              "    80% {\n",
              "      border-color: transparent;\n",
              "      border-right-color: var(--fill-color);\n",
              "      border-bottom-color: var(--fill-color);\n",
              "    }\n",
              "    90% {\n",
              "      border-color: transparent;\n",
              "      border-bottom-color: var(--fill-color);\n",
              "    }\n",
              "  }\n",
              "</style>\n",
              "\n",
              "  <script>\n",
              "    async function quickchart(key) {\n",
              "      const quickchartButtonEl =\n",
              "        document.querySelector('#' + key + ' button');\n",
              "      quickchartButtonEl.disabled = true;  // To prevent multiple clicks.\n",
              "      quickchartButtonEl.classList.add('colab-df-spinner');\n",
              "      try {\n",
              "        const charts = await google.colab.kernel.invokeFunction(\n",
              "            'suggestCharts', [key], {});\n",
              "      } catch (error) {\n",
              "        console.error('Error during call to suggestCharts:', error);\n",
              "      }\n",
              "      quickchartButtonEl.classList.remove('colab-df-spinner');\n",
              "      quickchartButtonEl.classList.add('colab-df-quickchart-complete');\n",
              "    }\n",
              "    (() => {\n",
              "      let quickchartButtonEl =\n",
              "        document.querySelector('#df-613846ce-a5d1-4a42-83c4-ff1797c20fa6 button');\n",
              "      quickchartButtonEl.style.display =\n",
              "        google.colab.kernel.accessAllowed ? 'block' : 'none';\n",
              "    })();\n",
              "  </script>\n",
              "</div>\n",
              "    </div>\n",
              "  </div>\n"
            ],
            "application/vnd.google.colaboratory.intrinsic+json": {
              "type": "dataframe",
              "summary": "{\n  \"name\": \"grouped_df\",\n  \"rows\": 7,\n  \"fields\": [\n    {\n      \"column\": \"Region\",\n      \"properties\": {\n        \"dtype\": \"string\",\n        \"num_unique_values\": 7,\n        \"samples\": [\n          \"East Asia & Pacific\",\n          \"Europe & Central Asia\",\n          \"South Asia\"\n        ],\n        \"semantic_type\": \"\",\n        \"description\": \"\"\n      }\n    },\n    {\n      \"column\": \"CO2 emission\",\n      \"properties\": {\n        \"dtype\": \"number\",\n        \"std\": 678308.3088751286,\n        \"min\": 17008.46275,\n        \"max\": 1930682.834,\n        \"num_unique_values\": 7,\n        \"samples\": [\n          391869.2065678312,\n          121780.51023591252,\n          314554.34325000003\n        ],\n        \"semantic_type\": \"\",\n        \"description\": \"\"\n      }\n    }\n  ]\n}"
            }
          },
          "metadata": {},
          "execution_count": 5
        }
      ],
      "source": [
        "# Напишіть ваш код нижче та натисніть Shift+Enter для виконання\n",
        "grouped_df = df[['Region', 'CO2 emission']].groupby(['Region'])\n",
        "grouped_df.mean()"
      ]
    },
    {
      "cell_type": "markdown",
      "metadata": {
        "id": "NrhaZMMjrXYp"
      },
      "source": [
        "Скористаюсь функцією <code>f_oneway</code> з модуля \"stats\" для отримання F-test score та P-value."
      ]
    },
    {
      "cell_type": "code",
      "execution_count": null,
      "metadata": {
        "id": "cK8GWl9ErXYp"
      },
      "outputs": [],
      "source": [
        "# Напишіть ваш код нижче та натисніть Shift+Enter для виконання\n",
        "from scipy import stats\n",
        "\n",
        "group_names = grouped_df.Region.unique()\n",
        "emissions_by_region = [ grouped_df.get_group(group[0])['CO2 emission'] for group in group_names]\n",
        "f, p = stats.f_oneway(*emissions_by_region)\n",
        "\n",
        "\n",
        "print(f\" ANOVA F-test score: {f}\")\n",
        "print(f\" ANOVA P-value: {p}\")\n"
      ]
    },
    {
      "cell_type": "markdown",
      "metadata": {
        "id": "O_HnqIfmrXYp"
      },
      "source": [
        "Результат із високим показником тесту, який показує  сильну кореляцію, і P-value     майже 0 , що  говорить про впевнену статистичну значущість. Але чи означає це, що досліджувані групи сильно корелюють між собою?\n",
        "\n",
        "Розглянемо їх окремо."
      ]
    },
    {
      "cell_type": "code",
      "execution_count": null,
      "metadata": {
        "id": "AE9VsE3hrXYq",
        "colab": {
          "base_uri": "https://localhost:8080/"
        },
        "outputId": "5fa50db1-25ec-48e2-e94f-53585fab34ef"
      },
      "outputs": [
        {
          "output_type": "stream",
          "name": "stdout",
          "text": [
            "\n",
            "East Asia & Pacific:\n",
            "ShapiroResult(statistic=0.22866499423980713, pvalue=1.0137837834836572e-12)\n",
            "\n",
            "Europe & Central Asia:\n",
            "ShapiroResult(statistic=0.4698972702026367, pvalue=3.7022774711410744e-13)\n",
            "\n",
            "Latin America & Caribbean:\n",
            "ShapiroResult(statistic=0.5404197573661804, pvalue=2.83462864292261e-10)\n",
            "\n",
            "Middle East & North Africa:\n",
            "ShapiroResult(statistic=0.6643725633621216, pvalue=1.0225892765447497e-05)\n",
            "\n",
            "North America:\n",
            "ShapiroResult(statistic=0.8257257342338562, pvalue=0.17751876623135032)\n",
            "\n",
            "South Asia:\n",
            "ShapiroResult(statistic=0.47273802757263184, pvalue=4.837930646317545e-06)\n",
            "\n",
            "Sub-Saharan Africa:\n",
            "ShapiroResult(statistic=0.21524322032928467, pvalue=1.385663315995678e-14)\n",
            "KruskalResult(statistic=40.14755173399021, pvalue=4.2609009645242947e-07)\n",
            "KruskalResult(statistic=3.0164664320691212, pvalue=0.08242287596665705)\n"
          ]
        }
      ],
      "source": [
        "# Напишіть ваш код нижче та натисніть Shift+Enter для виконання\n",
        "#Для перевірки нормальності розподілу даних у групах, використаю тест shapiro\n",
        "from scipy.stats import shapiro\n",
        "\n",
        "for i, group in enumerate(emissions_by_region):\n",
        "  print(f'\\n{group_names[i][0]}:\\n'+\n",
        "        f'{stats.shapiro(group)}')\n",
        "\n",
        "#використаю тест  Краскела-Уоліса\n",
        "from scipy.stats import kruskal\n",
        "\n",
        "\n",
        "print(stats.kruskal(*emissions_by_region))\n",
        "print(stats.kruskal(emissions_by_region[0], emissions_by_region[1]))\n",
        "\n"
      ]
    },
    {
      "cell_type": "markdown",
      "source": [],
      "metadata": {
        "id": "RnNN3BnsaD7N"
      }
    },
    {
      "cell_type": "markdown",
      "source": [
        "Виявлено, що при проведенні дисперсійного аналізу для категорій “South Asia” та “Europe & Central Asia” p-значення вище за 0.1. Це означає, що отриманий показник Краскела-Уоліса не має статистичної значущості. Таким чином, ми не можемо відхилити гіпотезу про те, що середні значення цих двох груп є однаковими. Отже, ми не можемо стверджувати, що існує значуща різниця в кореляції між цими групами."
      ],
      "metadata": {
        "id": "oRO3LUMuaKP9"
      }
    },
    {
      "cell_type": "markdown",
      "metadata": {
        "id": "VTaQQUlRrXYq"
      },
      "source": [
        "<a name=\"task6\"></a>\n",
        "<div class=\"alert alert-success alertsuccess\" style=\"margin-top: 20px\">\n",
        "\n",
        "## <h2 id=\"task6\"> Додаткове завдання: </h2>\n",
        "\n",
        "<p>Дайте відповіді на питання</p>\n",
        "</div>\n"
      ]
    },
    {
      "cell_type": "markdown",
      "metadata": {
        "id": "jbVGAOW6rXYq"
      },
      "source": [
        "1. По результатам дисперсійного аналізу для кількості викидів СО2 по регіонам, вкажіть пару регіонів, що відрізняються найсильніше.\n",
        "2. Створіть якісну ознаку 'Rich country', згрупувавши дані 'GDP per capita' в кілька категорій (багаті-бідні країни, 3-5 категорій). Побудуйте діаграму розмаху для 'CO2 emission' по категоріям 'Rich country'. Візуально оцініть наявність зв'язку між цими ознаками.\n",
        "3. Виконайте дисперсійний аналіз для 'CO2 emission', згрупувавши дані по категоріям 'Rich country'."
      ]
    },
    {
      "cell_type": "markdown",
      "metadata": {
        "id": "ZhkZyi3ZrXYq"
      },
      "source": [
        "<details><summary>Натисніть тут, щоб побачити підказку</summary>\n",
        "\n",
        "Групування кількісної змінної в категорії було в попередній лабораторній роботі. Використайте функцію \"cut\"\n",
        "</details>"
      ]
    },
    {
      "cell_type": "code",
      "execution_count": null,
      "metadata": {
        "id": "AQCb0OvRrXYq",
        "colab": {
          "base_uri": "https://localhost:8080/",
          "height": 688
        },
        "outputId": "3c5a6ef1-3dfe-4e43-8fff-0a74fc26e540"
      },
      "outputs": [
        {
          "output_type": "stream",
          "name": "stdout",
          "text": [
            "Пара регіонів, що відрізняється найсильніше:\n",
            "North America та Sub-Saharan Africa\n",
            "F=29.889184991922967 P=1.5319132629213808e-06\n"
          ]
        },
        {
          "output_type": "display_data",
          "data": {
            "text/plain": [
              "<Figure size 1000x500 with 1 Axes>"
            ],
            "image/png": "[encoded data removed]"
          },
          "metadata": {}
        },
        {
          "output_type": "stream",
          "name": "stdout",
          "text": [
            "Кількість викидів вуглекислого газу не має лінійного звязку з ти наскільки багата країна\n",
            "ANOVA results: F = 1.0847596358402931 , P = 0.33983403792468514\n",
            "medium:\n",
            "ShapiroResult(statistic=0.7036908864974976, pvalue=7.651616229509273e-09)\n",
            "poor:\n",
            "ShapiroResult(statistic=0.14868545532226562, pvalue=1.0329549007938381e-23)\n",
            "rich:\n",
            "ShapiroResult(statistic=0.34262341260910034, pvalue=2.500808804831167e-12)\n",
            "KruskalResult(statistic=24.124080450773686, pvalue=5.774607753200891e-06)\n"
          ]
        }
      ],
      "source": [
        "# #завдання 1\n",
        "n = len(emissions_by_region)\n",
        "regions = [float('-inf'), 0, 1, 0.01]\n",
        "for i1 in range(0, n-1):\n",
        "  for i2 in range(i1+1, n):\n",
        "    f, p = stats.f_oneway(emissions_by_region[i1], emissions_by_region[i2])\n",
        "    if f > regions[0] and p < 0.05:\n",
        "      regions = [f, i1, i2, p]\n",
        "r1 = group_names[regions[1]][0]\n",
        "r2 = group_names[regions[2]][0]\n",
        "f = regions[0]\n",
        "p = regions[3]\n",
        "print('Пара регіонів, що відрізняється найсильніше:')\n",
        "print(f'{r1} та {r2}\\nF={f} P={p}')\n",
        "\n",
        "#завдання 2\n",
        "def categorize_gdp(gdp):\n",
        "  if gdp < 10_000:\n",
        "    return 'poor'\n",
        "  if gdp < 20_000:\n",
        "    return 'medium'\n",
        "  return 'rich'\n",
        "\n",
        "df['Rich country'] = df['GDP per capita'].apply(categorize_gdp)\n",
        "\n",
        "plt.figure(figsize=(10, 5))\n",
        "sns.boxplot(x='Rich country', y='CO2 emission', data=df)\n",
        "plt.show()\n",
        "print('Кількість викидів вуглекислого газу не має лінійного звязку з тим наскільки багата країна')\n",
        "\n",
        "\n",
        "\n",
        "#завдання 3\n",
        "grouped_df = df[['Rich country', 'CO2 emission']].groupby(['Rich country'])\n",
        "group_names = grouped_df['Rich country'].unique()\n",
        "groups = [\n",
        "    grouped_df.get_group(group[0])['CO2 emission']\n",
        "    for group in group_names\n",
        "]\n",
        "f_val, p_val = stats.f_oneway(*groups)\n",
        "print(\"ANOVA results: F =\", f_val, \", P =\", p_val)\n",
        "\n",
        "\n",
        "for i, group in enumerate(groups):\n",
        "  print(f'{group_names[i][0]}:\\n'+\n",
        "        f'{stats.shapiro(group)}')\n",
        "\n",
        "print(stats.kruskal(*groups))"
      ]
    },
    {
      "cell_type": "markdown",
      "source": [
        "Я отримала результат з високим значенням кореляції та P-значенням, що наближається до нуля, що свідчить про високу статистичну впевненість. Однак, чи це означає, що між трьома досліджуваними групами існує сильна кореляція?"
      ],
      "metadata": {
        "id": "Uz3Z_uUkfZIg"
      }
    },
    {
      "cell_type": "code",
      "source": [
        "print(stats.kruskal(groups[0], groups[1]))"
      ],
      "metadata": {
        "colab": {
          "base_uri": "https://localhost:8080/"
        },
        "id": "JK8NagNLfzht",
        "outputId": "ed9f6fd1-f9db-479f-bec9-60bf05c63ae0"
      },
      "execution_count": null,
      "outputs": [
        {
          "output_type": "stream",
          "name": "stdout",
          "text": [
            "KruskalResult(statistic=0.08807490058684636, pvalue=0.7666389363724289)\n"
          ]
        }
      ]
    },
    {
      "cell_type": "markdown",
      "source": [
        "Було виявлено, що дисперсійний аналіз для категорій \"medium\" та \"poor\" показує високе значення p-value > 0.1, тому визначений показник Краскела-Уоліса не має статистичної значущості. Це свідчить про те, що ми не можемо відхилити гіпотезу про те, що середні значення цих двох груп є однаковими, тобто ми не можемо стверджувати про значущість різниці в кореляції."
      ],
      "metadata": {
        "id": "at5m1102gERA"
      }
    },
    {
      "cell_type": "markdown",
      "metadata": {
        "id": "qomjQE-OrXYr"
      },
      "source": [
        "<h2>Виконав студент групи ІП-21 <br> Скрипець Ольга</h2>"
      ]
    }
  ],
  "metadata": {
    "kernelspec": {
      "display_name": "Python 3",
      "language": "python",
      "name": "python3"
    },
    "language_info": {
      "codemirror_mode": {
        "name": "ipython",
        "version": 3
      },
      "file_extension": ".py",
      "mimetype": "text/x-python",
      "name": "python",
      "nbconvert_exporter": "python",
      "pygments_lexer": "ipython3",
      "version": "3.8.5"
    },
    "colab": {
      "provenance": [],
      "toc_visible": true
    }
  },
  "nbformat": 4,
  "nbformat_minor": 0
}