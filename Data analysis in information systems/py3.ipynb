{
  "cells": [
    {
      "cell_type": "markdown",
      "metadata": {
        "id": "shRDN-w0u9uZ"
      },
      "source": [
        "# Побудова моделі\n"
      ]
    },
    {
      "cell_type": "markdown",
      "metadata": {
        "id": "3bVKFj_Nu9ue"
      },
      "source": [
        "<h2>Мета</h2>\n",
        "\n",
        "Ознайомитись з різновидами регресійних моделей. Після завершення цієї лабораторної роботи ви зможете:\n",
        "\n",
        "* Будувати регресійні моделі кількох видів\n",
        "* Оцінювати якість моделі візуально\n",
        "* Оцінювати якість моделі за допомогою числових мір, без використання тестової вибірки\n",
        "* Виконувати прогнозування відгуку, використовуючи побудовану модель\n",
        "\n"
      ]
    },
    {
      "cell_type": "markdown",
      "metadata": {
        "id": "ZLUcxTTqu9vm"
      },
      "source": [
        "<div class=\"alert alert-danger alertdanger\" style=\"margin-top: 20px\">\n",
        "\n",
        "# <h1 id=\"task\">Завдання, що оцінюються </h1>\n",
        "\n",
        "</div>"
      ]
    },
    {
      "cell_type": "markdown",
      "metadata": {
        "id": "hDcD4YEhu9vm"
      },
      "source": [
        "1. Скачати дані із файлу \"clean_data2.csv\" (Data2.csv з виправленими помилками та заповненими пропусками). Записати дані у dataframe. В попередній роботі ви визначили ознаки, що можуть бути предикторами для 'CO2 emission'. Побудуйте моделі лінійної регресії для кожного з цих предикторів.\n",
        "2. Побудуйте модель множинної лінійної регресії для всіх доречних предикторів разом.\n",
        "3. Побудуйте кілька поліноміальних моделей другого порядку.\n",
        "4. Побудуйте візуалізації для оцінки всіх моделей.\n",
        "5. Порахуйте значення R^2 та MSE для оцінки якості кожної моделі. Оберіть найкращу модель.\n"
      ]
    },
    {
      "cell_type": "markdown",
      "metadata": {
        "id": "ghpplQEnu9vm"
      },
      "source": [
        "<a name=\"task1\"></a>\n",
        "<div class=\"alert alert-success alertsuccess\" style=\"margin-top: 20px\">\n",
        "\n",
        "## <h2 id=\"task1\">Завдання  #1: </h2>\n",
        "\n",
        "<p>Скачати дані із файлу <a href=\"https://drive.google.com/file/d/1wSj5SKRPKOjNPP2cyqaNpxRCinKEmJkO/view?usp=drive_link\" target=\"_blank\">'clean_data2.csv'</a> (Data2.csv з виправленими помилками та заповненими пропусками). Записати дані у dataframe. </p><p>В попередній роботі ви визначили ознаки, що можуть бути предикторами для 'CO2 emission'. Побудуйте моделі лінійної регресії для кожного з цих предикторів.</p>\n",
        "</div>"
      ]
    },
    {
      "cell_type": "markdown",
      "metadata": {
        "id": "pq5t22Sxu9vm"
      },
      "source": [
        "Зчитую дані з файлу у датафрейм\n"
      ]
    },
    {
      "cell_type": "code",
      "execution_count": null,
      "metadata": {
        "id": "b8sDlhDYu9vo",
        "colab": {
          "base_uri": "https://localhost:8080/"
        },
        "outputId": "3c25dd5b-690c-4259-93f7-6bb74e2759bf"
      },
      "outputs": [
        {
          "output_type": "stream",
          "name": "stdout",
          "text": [
            "Drive already mounted at /content/drive; to attempt to forcibly remount, call drive.mount(\"/content/drive\", force_remount=True).\n"
          ]
        }
      ],
      "source": [
        "# Напишіть ваш код нижче та натисніть Shift+Enter для виконання\n",
        "import pandas as pd\n",
        "import numpy as np\n",
        "from google.colab import drive\n",
        "import matplotlib.pyplot as plt\n",
        "\n",
        "drive.mount('/content/drive')\n",
        "\n",
        "path = \"/content/drive/My Drive/data/clean_data2.csv\"\n",
        "df = pd.read_csv(path)"
      ]
    },
    {
      "cell_type": "markdown",
      "metadata": {
        "id": "xDepjJKdu9vo"
      },
      "source": [
        "<p>З попередньої роботи знаємо, що хорошими показниками для 'CO2 emission' можуть бути:</p>\n",
        "<ul>\n",
        "    <li>Population</li>\n",
        "    <li>Area</li>\n",
        "</ul>\n",
        "Розробимо моделі, використовуючи ці ознаки як змінні-предиктори.\n",
        "\n",
        "<p>Створюю об’єкт лінійної регресії та навчаю першу модель</p>\n"
      ]
    },
    {
      "cell_type": "code",
      "execution_count": null,
      "metadata": {
        "id": "Ch0SvOJOu9vp",
        "colab": {
          "base_uri": "https://localhost:8080/",
          "height": 74
        },
        "outputId": "1b404b52-50ca-4f03-c504-59c3d9c2e955"
      },
      "outputs": [
        {
          "output_type": "execute_result",
          "data": {
            "text/plain": [
              "LinearRegression()"
            ],
            "text/html": [
              "<style>#sk-container-id-1 {color: black;background-color: white;}#sk-container-id-1 pre{padding: 0;}#sk-container-id-1 div.sk-toggleable {background-color: white;}#sk-container-id-1 label.sk-toggleable__label {cursor: pointer;display: block;width: 100%;margin-bottom: 0;padding: 0.3em;box-sizing: border-box;text-align: center;}#sk-container-id-1 label.sk-toggleable__label-arrow:before {content: \"▸\";float: left;margin-right: 0.25em;color: #696969;}#sk-container-id-1 label.sk-toggleable__label-arrow:hover:before {color: black;}#sk-container-id-1 div.sk-estimator:hover label.sk-toggleable__label-arrow:before {color: black;}#sk-container-id-1 div.sk-toggleable__content {max-height: 0;max-width: 0;overflow: hidden;text-align: left;background-color: #f0f8ff;}#sk-container-id-1 div.sk-toggleable__content pre {margin: 0.2em;color: black;border-radius: 0.25em;background-color: #f0f8ff;}#sk-container-id-1 input.sk-toggleable__control:checked~div.sk-toggleable__content {max-height: 200px;max-width: 100%;overflow: auto;}#sk-container-id-1 input.sk-toggleable__control:checked~label.sk-toggleable__label-arrow:before {content: \"▾\";}#sk-container-id-1 div.sk-estimator input.sk-toggleable__control:checked~label.sk-toggleable__label {background-color: #d4ebff;}#sk-container-id-1 div.sk-label input.sk-toggleable__control:checked~label.sk-toggleable__label {background-color: #d4ebff;}#sk-container-id-1 input.sk-hidden--visually {border: 0;clip: rect(1px 1px 1px 1px);clip: rect(1px, 1px, 1px, 1px);height: 1px;margin: -1px;overflow: hidden;padding: 0;position: absolute;width: 1px;}#sk-container-id-1 div.sk-estimator {font-family: monospace;background-color: #f0f8ff;border: 1px dotted black;border-radius: 0.25em;box-sizing: border-box;margin-bottom: 0.5em;}#sk-container-id-1 div.sk-estimator:hover {background-color: #d4ebff;}#sk-container-id-1 div.sk-parallel-item::after {content: \"\";width: 100%;border-bottom: 1px solid gray;flex-grow: 1;}#sk-container-id-1 div.sk-label:hover label.sk-toggleable__label {background-color: #d4ebff;}#sk-container-id-1 div.sk-serial::before {content: \"\";position: absolute;border-left: 1px solid gray;box-sizing: border-box;top: 0;bottom: 0;left: 50%;z-index: 0;}#sk-container-id-1 div.sk-serial {display: flex;flex-direction: column;align-items: center;background-color: white;padding-right: 0.2em;padding-left: 0.2em;position: relative;}#sk-container-id-1 div.sk-item {position: relative;z-index: 1;}#sk-container-id-1 div.sk-parallel {display: flex;align-items: stretch;justify-content: center;background-color: white;position: relative;}#sk-container-id-1 div.sk-item::before, #sk-container-id-1 div.sk-parallel-item::before {content: \"\";position: absolute;border-left: 1px solid gray;box-sizing: border-box;top: 0;bottom: 0;left: 50%;z-index: -1;}#sk-container-id-1 div.sk-parallel-item {display: flex;flex-direction: column;z-index: 1;position: relative;background-color: white;}#sk-container-id-1 div.sk-parallel-item:first-child::after {align-self: flex-end;width: 50%;}#sk-container-id-1 div.sk-parallel-item:last-child::after {align-self: flex-start;width: 50%;}#sk-container-id-1 div.sk-parallel-item:only-child::after {width: 0;}#sk-container-id-1 div.sk-dashed-wrapped {border: 1px dashed gray;margin: 0 0.4em 0.5em 0.4em;box-sizing: border-box;padding-bottom: 0.4em;background-color: white;}#sk-container-id-1 div.sk-label label {font-family: monospace;font-weight: bold;display: inline-block;line-height: 1.2em;}#sk-container-id-1 div.sk-label-container {text-align: center;}#sk-container-id-1 div.sk-container {/* jupyter's `normalize.less` sets `[hidden] { display: none; }` but bootstrap.min.css set `[hidden] { display: none !important; }` so we also need the `!important` here to be able to override the default hidden behavior on the sphinx rendered scikit-learn.org. See: https://github.com/scikit-learn/scikit-learn/issues/21755 */display: inline-block !important;position: relative;}#sk-container-id-1 div.sk-text-repr-fallback {display: none;}</style><div id=\"sk-container-id-1\" class=\"sk-top-container\"><div class=\"sk-text-repr-fallback\"><pre>LinearRegression()</pre><b>In a Jupyter environment, please rerun this cell to show the HTML representation or trust the notebook. <br />On GitHub, the HTML representation is unable to render, please try loading this page with nbviewer.org.</b></div><div class=\"sk-container\" hidden><div class=\"sk-item\"><div class=\"sk-estimator sk-toggleable\"><input class=\"sk-toggleable__control sk-hidden--visually\" id=\"sk-estimator-id-1\" type=\"checkbox\" checked><label for=\"sk-estimator-id-1\" class=\"sk-toggleable__label sk-toggleable__label-arrow\">LinearRegression</label><div class=\"sk-toggleable__content\"><pre>LinearRegression()</pre></div></div></div></div></div>"
            ]
          },
          "metadata": {},
          "execution_count": 2
        }
      ],
      "source": [
        "# Напишіть ваш код нижче та натисніть Shift+Enter для виконання\n",
        "from sklearn.linear_model import LinearRegression\n",
        "lm = LinearRegression()\n",
        "lm"
      ]
    },
    {
      "cell_type": "markdown",
      "source": [
        "Використовуючи просту лінійну регресію, створимо лінійну функцію з 'Population' як змінною-предиктором і 'CO2 emission' як змінною-відгуком"
      ],
      "metadata": {
        "id": "IqUsfb3l7DOu"
      }
    },
    {
      "cell_type": "code",
      "source": [
        "X = df[['Population']]\n",
        "Y = df['CO2 emission']"
      ],
      "metadata": {
        "id": "uC2f0Qz67NRn"
      },
      "execution_count": null,
      "outputs": []
    },
    {
      "cell_type": "markdown",
      "source": [
        "Будую лінійну модель та виводжу прогноз"
      ],
      "metadata": {
        "id": "OWbxcFva7RUg"
      }
    },
    {
      "cell_type": "code",
      "source": [
        "lm.fit(X,Y)\n",
        "Yhat=lm.predict(X)\n",
        "Yhat[0:5]"
      ],
      "metadata": {
        "colab": {
          "base_uri": "https://localhost:8080/"
        },
        "id": "6RdZrPfQ7Utt",
        "outputId": "29b88086-3505-4c84-bd9b-d1cbc3a7124a"
      },
      "execution_count": null,
      "outputs": [
        {
          "output_type": "execute_result",
          "data": {
            "text/plain": [
              "array([166725.94304326,  13118.67670299, 195485.17184303,   -514.12828729,\n",
              "         -409.32904311])"
            ]
          },
          "metadata": {},
          "execution_count": 4
        }
      ]
    },
    {
      "cell_type": "markdown",
      "metadata": {
        "id": "1_eD_-6ru9vp"
      },
      "source": [
        "Знаходжу коефіцієнти моделі\n"
      ]
    },
    {
      "cell_type": "markdown",
      "source": [
        "Значення intercept (a)"
      ],
      "metadata": {
        "id": "q5hN9I3y8FCV"
      }
    },
    {
      "cell_type": "code",
      "execution_count": null,
      "metadata": {
        "id": "vD5Noc72u9vr",
        "colab": {
          "base_uri": "https://localhost:8080/"
        },
        "outputId": "fcc62f36-989b-45e5-d606-0079a3cdfa2f"
      },
      "outputs": [
        {
          "output_type": "execute_result",
          "data": {
            "text/plain": [
              "-782.8642515405954"
            ]
          },
          "metadata": {},
          "execution_count": 5
        }
      ],
      "source": [
        "# Напишіть ваш код нижче та натисніть Shift+Enter для виконання\n",
        "lm.intercept_\n"
      ]
    },
    {
      "cell_type": "markdown",
      "source": [
        "Значення slope (b)"
      ],
      "metadata": {
        "id": "P2y6gSwt8HLE"
      }
    },
    {
      "cell_type": "code",
      "source": [
        "lm.coef_\n"
      ],
      "metadata": {
        "colab": {
          "base_uri": "https://localhost:8080/"
        },
        "id": "lotyd_wj8JtF",
        "outputId": "0756351f-7c16-493f-be0e-98c40b4414b7"
      },
      "execution_count": null,
      "outputs": [
        {
          "output_type": "execute_result",
          "data": {
            "text/plain": [
              "array([0.00483347])"
            ]
          },
          "metadata": {},
          "execution_count": 6
        }
      ]
    },
    {
      "cell_type": "markdown",
      "metadata": {
        "id": "ztLXP0PPu9vr"
      },
      "source": [
        "Отримали кінцеву лінійну модель зі структурою:\n",
        "$$\n",
        "Yhat1 = a + b  X\n",
        "$$"
      ]
    },
    {
      "cell_type": "markdown",
      "metadata": {
        "id": "Aqm5slVZu9vs"
      },
      "source": [
        "Підставляючи фактичні значення, маємо:"
      ]
    },
    {
      "cell_type": "code",
      "execution_count": null,
      "metadata": {
        "id": "25C28yMNu9vs"
      },
      "outputs": [],
      "source": [
        "# Напишіть рівняння моделі, виконувати не потрібно\n",
        "\n",
        "# CO2emission = −782.8642515405081 + 0.00483347 ∗ Population"
      ]
    },
    {
      "cell_type": "markdown",
      "metadata": {
        "id": "NY7VMpkAu9vt"
      },
      "source": [
        "Створюю об’єкт лінійної регресії та навчаю другу модель\n"
      ]
    },
    {
      "cell_type": "code",
      "execution_count": null,
      "metadata": {
        "id": "JAsMp7gEu9vt",
        "colab": {
          "base_uri": "https://localhost:8080/"
        },
        "outputId": "92161a97-6ae5-4469-864a-963c94955024"
      },
      "outputs": [
        {
          "output_type": "execute_result",
          "data": {
            "text/plain": [
              "array([173940.73285816,  11993.5518378 , 622559.15320471,   4585.25519437,\n",
              "         4655.31614336])"
            ]
          },
          "metadata": {},
          "execution_count": 7
        }
      ],
      "source": [
        "from os import X_OK\n",
        "# Напишіть ваш код нижче та натисніть Shift+Enter для виконання\n",
        "lm2 = LinearRegression()\n",
        "lm2\n",
        "X = df[['Area']]\n",
        "Y = df['CO2 emission']\n",
        "lm2.fit(X,Y)\n",
        "Yhat=lm2.predict(X)\n",
        "Yhat[0:5]\n"
      ]
    },
    {
      "cell_type": "markdown",
      "metadata": {
        "id": "Odn7Tyhcu9vu"
      },
      "source": [
        "Знаходжу коефіцієнти моделі\n"
      ]
    },
    {
      "cell_type": "code",
      "execution_count": null,
      "metadata": {
        "id": "8y1JN-Vvu9vu",
        "colab": {
          "base_uri": "https://localhost:8080/"
        },
        "outputId": "78f19cac-2f99-43a3-e38c-14ac9c47da9d"
      },
      "outputs": [
        {
          "output_type": "execute_result",
          "data": {
            "text/plain": [
              "4533.3581951147935"
            ]
          },
          "metadata": {},
          "execution_count": 8
        }
      ],
      "source": [
        "# Значення intercept (a)\n",
        "lm2.intercept_\n"
      ]
    },
    {
      "cell_type": "code",
      "source": [
        "# Значення slope (b)\n",
        "lm2.coef_"
      ],
      "metadata": {
        "colab": {
          "base_uri": "https://localhost:8080/"
        },
        "id": "nyOzSf9a84rr",
        "outputId": "08ca6e6b-b8fc-4c6d-bb7e-ac59b47365ce"
      },
      "execution_count": null,
      "outputs": [
        {
          "output_type": "execute_result",
          "data": {
            "text/plain": [
              "array([0.259485])"
            ]
          },
          "metadata": {},
          "execution_count": 9
        }
      ]
    },
    {
      "cell_type": "markdown",
      "metadata": {
        "id": "oKNaDy-vu9vu"
      },
      "source": [
        "Отримали кінцеву лінійну модель зі структурою:\n",
        "$$\n",
        "Yhat2 = a + b  X\n",
        "$$"
      ]
    },
    {
      "cell_type": "markdown",
      "metadata": {
        "id": "B8IGckpou9vu"
      },
      "source": [
        "Підставляючи фактичні значення, маємо:\n"
      ]
    },
    {
      "cell_type": "code",
      "execution_count": null,
      "metadata": {
        "id": "YEc2gTmku9vv"
      },
      "outputs": [],
      "source": [
        "# Напишіть рівняння моделі, виконувати не потрібно\n",
        "\n",
        "# CO2emission = 4533.3581951147935 + 0.259485 ∗ Area\n"
      ]
    },
    {
      "cell_type": "markdown",
      "metadata": {
        "id": "X8Ql4Nvdu9vv"
      },
      "source": [
        "<a name=\"task2\"></a>\n",
        "<div class=\"alert alert-success alertsuccess\" style=\"margin-top: 20px\">\n",
        "\n",
        "## <h2 id=\"task2\">Завдання  #2: </h2>\n",
        "\n",
        "<p>Побудуйте модель множинної лінійної регресії для всіх доречних предикторів разом.</p>\n",
        "</div>"
      ]
    },
    {
      "cell_type": "markdown",
      "metadata": {
        "id": "KH2Hc5vru9vv"
      },
      "source": [
        "Створюю об’єкт лінійної регресії та навчаю множинну лінійну модель із структурою\n",
        "$$\n",
        "Yhat3 = a + b_1 X_1 + b_2 X_2\n",
        "$$"
      ]
    },
    {
      "cell_type": "code",
      "execution_count": null,
      "metadata": {
        "id": "mna_0HyNu9vv",
        "colab": {
          "base_uri": "https://localhost:8080/",
          "height": 74
        },
        "outputId": "6b01ae10-b712-47a0-f644-59d95a6e47c3"
      },
      "outputs": [
        {
          "output_type": "execute_result",
          "data": {
            "text/plain": [
              "LinearRegression()"
            ],
            "text/html": [
              "<style>#sk-container-id-2 {color: black;background-color: white;}#sk-container-id-2 pre{padding: 0;}#sk-container-id-2 div.sk-toggleable {background-color: white;}#sk-container-id-2 label.sk-toggleable__label {cursor: pointer;display: block;width: 100%;margin-bottom: 0;padding: 0.3em;box-sizing: border-box;text-align: center;}#sk-container-id-2 label.sk-toggleable__label-arrow:before {content: \"▸\";float: left;margin-right: 0.25em;color: #696969;}#sk-container-id-2 label.sk-toggleable__label-arrow:hover:before {color: black;}#sk-container-id-2 div.sk-estimator:hover label.sk-toggleable__label-arrow:before {color: black;}#sk-container-id-2 div.sk-toggleable__content {max-height: 0;max-width: 0;overflow: hidden;text-align: left;background-color: #f0f8ff;}#sk-container-id-2 div.sk-toggleable__content pre {margin: 0.2em;color: black;border-radius: 0.25em;background-color: #f0f8ff;}#sk-container-id-2 input.sk-toggleable__control:checked~div.sk-toggleable__content {max-height: 200px;max-width: 100%;overflow: auto;}#sk-container-id-2 input.sk-toggleable__control:checked~label.sk-toggleable__label-arrow:before {content: \"▾\";}#sk-container-id-2 div.sk-estimator input.sk-toggleable__control:checked~label.sk-toggleable__label {background-color: #d4ebff;}#sk-container-id-2 div.sk-label input.sk-toggleable__control:checked~label.sk-toggleable__label {background-color: #d4ebff;}#sk-container-id-2 input.sk-hidden--visually {border: 0;clip: rect(1px 1px 1px 1px);clip: rect(1px, 1px, 1px, 1px);height: 1px;margin: -1px;overflow: hidden;padding: 0;position: absolute;width: 1px;}#sk-container-id-2 div.sk-estimator {font-family: monospace;background-color: #f0f8ff;border: 1px dotted black;border-radius: 0.25em;box-sizing: border-box;margin-bottom: 0.5em;}#sk-container-id-2 div.sk-estimator:hover {background-color: #d4ebff;}#sk-container-id-2 div.sk-parallel-item::after {content: \"\";width: 100%;border-bottom: 1px solid gray;flex-grow: 1;}#sk-container-id-2 div.sk-label:hover label.sk-toggleable__label {background-color: #d4ebff;}#sk-container-id-2 div.sk-serial::before {content: \"\";position: absolute;border-left: 1px solid gray;box-sizing: border-box;top: 0;bottom: 0;left: 50%;z-index: 0;}#sk-container-id-2 div.sk-serial {display: flex;flex-direction: column;align-items: center;background-color: white;padding-right: 0.2em;padding-left: 0.2em;position: relative;}#sk-container-id-2 div.sk-item {position: relative;z-index: 1;}#sk-container-id-2 div.sk-parallel {display: flex;align-items: stretch;justify-content: center;background-color: white;position: relative;}#sk-container-id-2 div.sk-item::before, #sk-container-id-2 div.sk-parallel-item::before {content: \"\";position: absolute;border-left: 1px solid gray;box-sizing: border-box;top: 0;bottom: 0;left: 50%;z-index: -1;}#sk-container-id-2 div.sk-parallel-item {display: flex;flex-direction: column;z-index: 1;position: relative;background-color: white;}#sk-container-id-2 div.sk-parallel-item:first-child::after {align-self: flex-end;width: 50%;}#sk-container-id-2 div.sk-parallel-item:last-child::after {align-self: flex-start;width: 50%;}#sk-container-id-2 div.sk-parallel-item:only-child::after {width: 0;}#sk-container-id-2 div.sk-dashed-wrapped {border: 1px dashed gray;margin: 0 0.4em 0.5em 0.4em;box-sizing: border-box;padding-bottom: 0.4em;background-color: white;}#sk-container-id-2 div.sk-label label {font-family: monospace;font-weight: bold;display: inline-block;line-height: 1.2em;}#sk-container-id-2 div.sk-label-container {text-align: center;}#sk-container-id-2 div.sk-container {/* jupyter's `normalize.less` sets `[hidden] { display: none; }` but bootstrap.min.css set `[hidden] { display: none !important; }` so we also need the `!important` here to be able to override the default hidden behavior on the sphinx rendered scikit-learn.org. See: https://github.com/scikit-learn/scikit-learn/issues/21755 */display: inline-block !important;position: relative;}#sk-container-id-2 div.sk-text-repr-fallback {display: none;}</style><div id=\"sk-container-id-2\" class=\"sk-top-container\"><div class=\"sk-text-repr-fallback\"><pre>LinearRegression()</pre><b>In a Jupyter environment, please rerun this cell to show the HTML representation or trust the notebook. <br />On GitHub, the HTML representation is unable to render, please try loading this page with nbviewer.org.</b></div><div class=\"sk-container\" hidden><div class=\"sk-item\"><div class=\"sk-estimator sk-toggleable\"><input class=\"sk-toggleable__control sk-hidden--visually\" id=\"sk-estimator-id-2\" type=\"checkbox\" checked><label for=\"sk-estimator-id-2\" class=\"sk-toggleable__label sk-toggleable__label-arrow\">LinearRegression</label><div class=\"sk-toggleable__content\"><pre>LinearRegression()</pre></div></div></div></div></div>"
            ]
          },
          "metadata": {},
          "execution_count": 11
        }
      ],
      "source": [
        "# Напишіть ваш код нижче та натисніть Shift+Enter для виконання\n",
        "lm3 = LinearRegression()\n",
        "lm3\n"
      ]
    },
    {
      "cell_type": "markdown",
      "source": [
        "Розроблюю модель, використовуючи ознаки як змінні-предиктори"
      ],
      "metadata": {
        "id": "BU7yy5q_9SLx"
      }
    },
    {
      "cell_type": "code",
      "source": [
        "Z = df[['Population', 'Area']]"
      ],
      "metadata": {
        "id": "qMWBMSpx9WBR"
      },
      "execution_count": null,
      "outputs": []
    },
    {
      "cell_type": "markdown",
      "source": [
        "Будую модель"
      ],
      "metadata": {
        "id": "qsfP5Gbu9a3y"
      }
    },
    {
      "cell_type": "code",
      "source": [
        "lm3.fit(Z, df['CO2 emission'])\n"
      ],
      "metadata": {
        "colab": {
          "base_uri": "https://localhost:8080/",
          "height": 74
        },
        "id": "dmA5t13e9dOz",
        "outputId": "b19f97bc-6b9b-43db-dbc7-5390132d25a0"
      },
      "execution_count": null,
      "outputs": [
        {
          "output_type": "execute_result",
          "data": {
            "text/plain": [
              "LinearRegression()"
            ],
            "text/html": [
              "<style>#sk-container-id-3 {color: black;background-color: white;}#sk-container-id-3 pre{padding: 0;}#sk-container-id-3 div.sk-toggleable {background-color: white;}#sk-container-id-3 label.sk-toggleable__label {cursor: pointer;display: block;width: 100%;margin-bottom: 0;padding: 0.3em;box-sizing: border-box;text-align: center;}#sk-container-id-3 label.sk-toggleable__label-arrow:before {content: \"▸\";float: left;margin-right: 0.25em;color: #696969;}#sk-container-id-3 label.sk-toggleable__label-arrow:hover:before {color: black;}#sk-container-id-3 div.sk-estimator:hover label.sk-toggleable__label-arrow:before {color: black;}#sk-container-id-3 div.sk-toggleable__content {max-height: 0;max-width: 0;overflow: hidden;text-align: left;background-color: #f0f8ff;}#sk-container-id-3 div.sk-toggleable__content pre {margin: 0.2em;color: black;border-radius: 0.25em;background-color: #f0f8ff;}#sk-container-id-3 input.sk-toggleable__control:checked~div.sk-toggleable__content {max-height: 200px;max-width: 100%;overflow: auto;}#sk-container-id-3 input.sk-toggleable__control:checked~label.sk-toggleable__label-arrow:before {content: \"▾\";}#sk-container-id-3 div.sk-estimator input.sk-toggleable__control:checked~label.sk-toggleable__label {background-color: #d4ebff;}#sk-container-id-3 div.sk-label input.sk-toggleable__control:checked~label.sk-toggleable__label {background-color: #d4ebff;}#sk-container-id-3 input.sk-hidden--visually {border: 0;clip: rect(1px 1px 1px 1px);clip: rect(1px, 1px, 1px, 1px);height: 1px;margin: -1px;overflow: hidden;padding: 0;position: absolute;width: 1px;}#sk-container-id-3 div.sk-estimator {font-family: monospace;background-color: #f0f8ff;border: 1px dotted black;border-radius: 0.25em;box-sizing: border-box;margin-bottom: 0.5em;}#sk-container-id-3 div.sk-estimator:hover {background-color: #d4ebff;}#sk-container-id-3 div.sk-parallel-item::after {content: \"\";width: 100%;border-bottom: 1px solid gray;flex-grow: 1;}#sk-container-id-3 div.sk-label:hover label.sk-toggleable__label {background-color: #d4ebff;}#sk-container-id-3 div.sk-serial::before {content: \"\";position: absolute;border-left: 1px solid gray;box-sizing: border-box;top: 0;bottom: 0;left: 50%;z-index: 0;}#sk-container-id-3 div.sk-serial {display: flex;flex-direction: column;align-items: center;background-color: white;padding-right: 0.2em;padding-left: 0.2em;position: relative;}#sk-container-id-3 div.sk-item {position: relative;z-index: 1;}#sk-container-id-3 div.sk-parallel {display: flex;align-items: stretch;justify-content: center;background-color: white;position: relative;}#sk-container-id-3 div.sk-item::before, #sk-container-id-3 div.sk-parallel-item::before {content: \"\";position: absolute;border-left: 1px solid gray;box-sizing: border-box;top: 0;bottom: 0;left: 50%;z-index: -1;}#sk-container-id-3 div.sk-parallel-item {display: flex;flex-direction: column;z-index: 1;position: relative;background-color: white;}#sk-container-id-3 div.sk-parallel-item:first-child::after {align-self: flex-end;width: 50%;}#sk-container-id-3 div.sk-parallel-item:last-child::after {align-self: flex-start;width: 50%;}#sk-container-id-3 div.sk-parallel-item:only-child::after {width: 0;}#sk-container-id-3 div.sk-dashed-wrapped {border: 1px dashed gray;margin: 0 0.4em 0.5em 0.4em;box-sizing: border-box;padding-bottom: 0.4em;background-color: white;}#sk-container-id-3 div.sk-label label {font-family: monospace;font-weight: bold;display: inline-block;line-height: 1.2em;}#sk-container-id-3 div.sk-label-container {text-align: center;}#sk-container-id-3 div.sk-container {/* jupyter's `normalize.less` sets `[hidden] { display: none; }` but bootstrap.min.css set `[hidden] { display: none !important; }` so we also need the `!important` here to be able to override the default hidden behavior on the sphinx rendered scikit-learn.org. See: https://github.com/scikit-learn/scikit-learn/issues/21755 */display: inline-block !important;position: relative;}#sk-container-id-3 div.sk-text-repr-fallback {display: none;}</style><div id=\"sk-container-id-3\" class=\"sk-top-container\"><div class=\"sk-text-repr-fallback\"><pre>LinearRegression()</pre><b>In a Jupyter environment, please rerun this cell to show the HTML representation or trust the notebook. <br />On GitHub, the HTML representation is unable to render, please try loading this page with nbviewer.org.</b></div><div class=\"sk-container\" hidden><div class=\"sk-item\"><div class=\"sk-estimator sk-toggleable\"><input class=\"sk-toggleable__control sk-hidden--visually\" id=\"sk-estimator-id-3\" type=\"checkbox\" checked><label for=\"sk-estimator-id-3\" class=\"sk-toggleable__label sk-toggleable__label-arrow\">LinearRegression</label><div class=\"sk-toggleable__content\"><pre>LinearRegression()</pre></div></div></div></div></div>"
            ]
          },
          "metadata": {},
          "execution_count": 13
        }
      ]
    },
    {
      "cell_type": "markdown",
      "metadata": {
        "id": "0rTUrHw-u9vw"
      },
      "source": [
        "Знаходжу коефіцієнти моделі\n"
      ]
    },
    {
      "cell_type": "code",
      "execution_count": null,
      "metadata": {
        "id": "ycSBZr7wu9vw",
        "colab": {
          "base_uri": "https://localhost:8080/"
        },
        "outputId": "528a80c8-85f0-4ae6-df6a-7eb189df0053"
      },
      "outputs": [
        {
          "output_type": "execute_result",
          "data": {
            "text/plain": [
              "-51153.70055281371"
            ]
          },
          "metadata": {},
          "execution_count": 14
        }
      ],
      "source": [
        "# Напишіть ваш код нижче та натисніть Shift+Enter для виконання\n",
        "# Значення intercept (a)\n",
        "lm3.intercept_\n"
      ]
    },
    {
      "cell_type": "code",
      "source": [
        "# Значення slope (b)\n",
        "lm3.coef_"
      ],
      "metadata": {
        "colab": {
          "base_uri": "https://localhost:8080/"
        },
        "id": "aynzguIQ9i7J",
        "outputId": "487b596f-c1fc-42a5-c25b-8a2c5616bf63"
      },
      "execution_count": null,
      "outputs": [
        {
          "output_type": "execute_result",
          "data": {
            "text/plain": [
              "array([0.00407087, 0.12369062])"
            ]
          },
          "metadata": {},
          "execution_count": 15
        }
      ]
    },
    {
      "cell_type": "markdown",
      "metadata": {
        "id": "Dc2L0V7eu9vw"
      },
      "source": [
        "Підставляючи фактичні значення, маємо:"
      ]
    },
    {
      "cell_type": "code",
      "execution_count": null,
      "metadata": {
        "id": "z_p-91Z6u9vw"
      },
      "outputs": [],
      "source": [
        "# Напишіть рівняння моделі, виконувати не потрібно\n",
        "# CO2emission = −51153.70055281368 + 0.00407087 ∗ Population + 0.12369062 ∗ Area"
      ]
    },
    {
      "cell_type": "markdown",
      "metadata": {
        "id": "dstuG0Nhu9vx"
      },
      "source": [
        "<a name=\"task3\"></a>\n",
        "<div class=\"alert alert-success alertsuccess\" style=\"margin-top: 20px\">\n",
        "\n",
        "## <h2 id=\"task3\">Завдання  #3: </h2>\n",
        "\n",
        "<p>Побудуйте кілька поліноміальних моделей другого порядку.</p>\n",
        "</div>"
      ]
    },
    {
      "cell_type": "markdown",
      "metadata": {
        "id": "uMO7pR3wu9vx"
      },
      "source": [
        "Створюю об’єкт поліноміальної регресії та навчаю поліноміальну модель із структурою\n",
        "$$\n",
        "Yhat4 = a + b_1 X_1 + b_2 X_1^2  \n",
        "$$"
      ]
    },
    {
      "cell_type": "code",
      "source": [
        "y = df['CO2 emission']\n",
        "x1 = df['Population']\n",
        "x2 = df['Area']\n",
        "y_hat4 = np.polyfit(x1, y, 2)\n",
        "p = np.poly1d(y_hat4)\n",
        "print(p)"
      ],
      "metadata": {
        "colab": {
          "base_uri": "https://localhost:8080/"
        },
        "id": "yhNYj3Et-HIn",
        "outputId": "20cc623b-7e45-49ef-8ef9-90b7f33a98ff"
      },
      "execution_count": null,
      "outputs": [
        {
          "output_type": "stream",
          "name": "stdout",
          "text": [
            "            2\n",
            "-3.004e-13 x + 0.00521 x - 7948\n"
          ]
        }
      ]
    },
    {
      "cell_type": "markdown",
      "metadata": {
        "id": "5gJRyMzpu9vx"
      },
      "source": [
        "Знаходжу коефіцієнти моделі\n"
      ]
    },
    {
      "cell_type": "code",
      "execution_count": null,
      "metadata": {
        "id": "bOH2NNROu9vx",
        "colab": {
          "base_uri": "https://localhost:8080/"
        },
        "outputId": "2b8bf34f-8c8e-4a7d-ddf8-551e7b46200e"
      },
      "outputs": [
        {
          "output_type": "execute_result",
          "data": {
            "text/plain": [
              "array([-3.00399769e-13,  5.21002024e-03, -7.94817527e+03])"
            ]
          },
          "metadata": {},
          "execution_count": 17
        }
      ],
      "source": [
        "# Напишіть ваш код нижче та натисніть Shift+Enter для виконання\n",
        "np.polyfit(x1, y, 2)"
      ]
    },
    {
      "cell_type": "markdown",
      "source": [
        "Форматую"
      ],
      "metadata": {
        "id": "tVQc4KnN-dR1"
      }
    },
    {
      "cell_type": "code",
      "source": [
        "print(\"a = \", y_hat4[2])\n",
        "print(\"b1 = \", y_hat4[1])\n",
        "print(\"b2 = \", y_hat4[0])\n"
      ],
      "metadata": {
        "colab": {
          "base_uri": "https://localhost:8080/"
        },
        "id": "zizywNNp-ft1",
        "outputId": "3fdd9225-cd76-4a26-c85a-98e8a4374fcc"
      },
      "execution_count": null,
      "outputs": [
        {
          "output_type": "stream",
          "name": "stdout",
          "text": [
            "a =  -7948.1752656624585\n",
            "b1 =  0.005210020241733402\n",
            "b2 =  -3.003997685003567e-13\n"
          ]
        }
      ]
    },
    {
      "cell_type": "markdown",
      "source": [
        "Отримуємо: $$\n",
        "CO2emission = −7948.175265662411 + 0.005210020241733403 ∗ Population + −3.003997685003558e − 13 ∗ Population^\n",
        "2\n",
        "$$"
      ],
      "metadata": {
        "id": "Sdt6olkA-rsR"
      }
    },
    {
      "cell_type": "markdown",
      "metadata": {
        "id": "0ADdtuCju9vy"
      },
      "source": [
        "Створюю об’єкт поліноміальної регресії та навчаю поліноміальну модель із структурою\n",
        "$$\n",
        "Yhat5 = a + b_1 X_2 + b_2 X_2^2\n",
        "$$"
      ]
    },
    {
      "cell_type": "code",
      "source": [
        "y_hat5 = np.polyfit(x2, y, 2)\n",
        "p = np.poly1d(y_hat5)\n",
        "print(p)\n"
      ],
      "metadata": {
        "colab": {
          "base_uri": "https://localhost:8080/"
        },
        "id": "tq1bJH5F_ICv",
        "outputId": "478007bf-608c-4cf7-e3ed-8ba5f07de879"
      },
      "execution_count": null,
      "outputs": [
        {
          "output_type": "stream",
          "name": "stdout",
          "text": [
            "            2\n",
            "-1.484e-08 x + 0.436 x - 4.963e+04\n"
          ]
        }
      ]
    },
    {
      "cell_type": "markdown",
      "metadata": {
        "id": "UVSlIQ2Bu9vy"
      },
      "source": [
        "Знаходжу коефіцієнти моделі\n"
      ]
    },
    {
      "cell_type": "code",
      "execution_count": null,
      "metadata": {
        "id": "6QQUfs7fu9vy",
        "colab": {
          "base_uri": "https://localhost:8080/"
        },
        "outputId": "11669c54-6938-4a17-b20b-dbd3454f92f5"
      },
      "outputs": [
        {
          "output_type": "execute_result",
          "data": {
            "text/plain": [
              "array([-1.48432093e-08,  4.35953410e-01, -4.96265022e+04])"
            ]
          },
          "metadata": {},
          "execution_count": 20
        }
      ],
      "source": [
        "# Напишіть ваш код нижче та натисніть Shift+Enter для виконання\n",
        "np.polyfit(x2, y, 2)\n",
        "\n"
      ]
    },
    {
      "cell_type": "markdown",
      "source": [
        "Форматую"
      ],
      "metadata": {
        "id": "J4o_DfTp_MlH"
      }
    },
    {
      "cell_type": "code",
      "source": [
        "print(\"a = \", y_hat5[2])\n",
        "print(\"b1 = \", y_hat5[1])\n",
        "print(\"b2 = \", y_hat5[0])"
      ],
      "metadata": {
        "id": "oklNY3p6_Oy7"
      },
      "execution_count": null,
      "outputs": []
    },
    {
      "cell_type": "markdown",
      "source": [
        "Отримуємо:\n",
        "$$CO2emission = −49626.502217575755 + 0.4359534096337658 ∗ Area + −1.4843209258560178e − 08 ∗ Area^2$$\n",
        "\n"
      ],
      "metadata": {
        "id": "DuCMygLA_TSJ"
      }
    },
    {
      "cell_type": "markdown",
      "metadata": {
        "id": "klrjle--u9vy"
      },
      "source": [
        "Створюю об’єкт поліноміальної регресії та навчаю поліноміальну модель із структурою\n",
        "$$\n",
        "Yhat6 = a + b_1 X_1 + b_2 X_2 + b_3 X_1 X_2 + b_4 X_1^2 + b_5 X_2^2\n",
        "$$"
      ]
    },
    {
      "cell_type": "code",
      "source": [
        "# Напишіть ваш код нижче та натисніть Shift+Enter для виконання\n",
        "from sklearn.preprocessing import PolynomialFeatures\n",
        "# Створюю об’єкт ступеня 2\n",
        "pr=PolynomialFeatures(degree=2)\n",
        "pr"
      ],
      "metadata": {
        "colab": {
          "base_uri": "https://localhost:8080/",
          "height": 74
        },
        "id": "eSjNGjq1_uhT",
        "outputId": "55e9c1cd-328d-4d3b-f2b3-85fd8fb43a0b"
      },
      "execution_count": null,
      "outputs": [
        {
          "output_type": "execute_result",
          "data": {
            "text/plain": [
              "PolynomialFeatures()"
            ],
            "text/html": [
              "<style>#sk-container-id-5 {color: black;background-color: white;}#sk-container-id-5 pre{padding: 0;}#sk-container-id-5 div.sk-toggleable {background-color: white;}#sk-container-id-5 label.sk-toggleable__label {cursor: pointer;display: block;width: 100%;margin-bottom: 0;padding: 0.3em;box-sizing: border-box;text-align: center;}#sk-container-id-5 label.sk-toggleable__label-arrow:before {content: \"▸\";float: left;margin-right: 0.25em;color: #696969;}#sk-container-id-5 label.sk-toggleable__label-arrow:hover:before {color: black;}#sk-container-id-5 div.sk-estimator:hover label.sk-toggleable__label-arrow:before {color: black;}#sk-container-id-5 div.sk-toggleable__content {max-height: 0;max-width: 0;overflow: hidden;text-align: left;background-color: #f0f8ff;}#sk-container-id-5 div.sk-toggleable__content pre {margin: 0.2em;color: black;border-radius: 0.25em;background-color: #f0f8ff;}#sk-container-id-5 input.sk-toggleable__control:checked~div.sk-toggleable__content {max-height: 200px;max-width: 100%;overflow: auto;}#sk-container-id-5 input.sk-toggleable__control:checked~label.sk-toggleable__label-arrow:before {content: \"▾\";}#sk-container-id-5 div.sk-estimator input.sk-toggleable__control:checked~label.sk-toggleable__label {background-color: #d4ebff;}#sk-container-id-5 div.sk-label input.sk-toggleable__control:checked~label.sk-toggleable__label {background-color: #d4ebff;}#sk-container-id-5 input.sk-hidden--visually {border: 0;clip: rect(1px 1px 1px 1px);clip: rect(1px, 1px, 1px, 1px);height: 1px;margin: -1px;overflow: hidden;padding: 0;position: absolute;width: 1px;}#sk-container-id-5 div.sk-estimator {font-family: monospace;background-color: #f0f8ff;border: 1px dotted black;border-radius: 0.25em;box-sizing: border-box;margin-bottom: 0.5em;}#sk-container-id-5 div.sk-estimator:hover {background-color: #d4ebff;}#sk-container-id-5 div.sk-parallel-item::after {content: \"\";width: 100%;border-bottom: 1px solid gray;flex-grow: 1;}#sk-container-id-5 div.sk-label:hover label.sk-toggleable__label {background-color: #d4ebff;}#sk-container-id-5 div.sk-serial::before {content: \"\";position: absolute;border-left: 1px solid gray;box-sizing: border-box;top: 0;bottom: 0;left: 50%;z-index: 0;}#sk-container-id-5 div.sk-serial {display: flex;flex-direction: column;align-items: center;background-color: white;padding-right: 0.2em;padding-left: 0.2em;position: relative;}#sk-container-id-5 div.sk-item {position: relative;z-index: 1;}#sk-container-id-5 div.sk-parallel {display: flex;align-items: stretch;justify-content: center;background-color: white;position: relative;}#sk-container-id-5 div.sk-item::before, #sk-container-id-5 div.sk-parallel-item::before {content: \"\";position: absolute;border-left: 1px solid gray;box-sizing: border-box;top: 0;bottom: 0;left: 50%;z-index: -1;}#sk-container-id-5 div.sk-parallel-item {display: flex;flex-direction: column;z-index: 1;position: relative;background-color: white;}#sk-container-id-5 div.sk-parallel-item:first-child::after {align-self: flex-end;width: 50%;}#sk-container-id-5 div.sk-parallel-item:last-child::after {align-self: flex-start;width: 50%;}#sk-container-id-5 div.sk-parallel-item:only-child::after {width: 0;}#sk-container-id-5 div.sk-dashed-wrapped {border: 1px dashed gray;margin: 0 0.4em 0.5em 0.4em;box-sizing: border-box;padding-bottom: 0.4em;background-color: white;}#sk-container-id-5 div.sk-label label {font-family: monospace;font-weight: bold;display: inline-block;line-height: 1.2em;}#sk-container-id-5 div.sk-label-container {text-align: center;}#sk-container-id-5 div.sk-container {/* jupyter's `normalize.less` sets `[hidden] { display: none; }` but bootstrap.min.css set `[hidden] { display: none !important; }` so we also need the `!important` here to be able to override the default hidden behavior on the sphinx rendered scikit-learn.org. See: https://github.com/scikit-learn/scikit-learn/issues/21755 */display: inline-block !important;position: relative;}#sk-container-id-5 div.sk-text-repr-fallback {display: none;}</style><div id=\"sk-container-id-5\" class=\"sk-top-container\"><div class=\"sk-text-repr-fallback\"><pre>PolynomialFeatures()</pre><b>In a Jupyter environment, please rerun this cell to show the HTML representation or trust the notebook. <br />On GitHub, the HTML representation is unable to render, please try loading this page with nbviewer.org.</b></div><div class=\"sk-container\" hidden><div class=\"sk-item\"><div class=\"sk-estimator sk-toggleable\"><input class=\"sk-toggleable__control sk-hidden--visually\" id=\"sk-estimator-id-5\" type=\"checkbox\" checked><label for=\"sk-estimator-id-5\" class=\"sk-toggleable__label sk-toggleable__label-arrow\">PolynomialFeatures</label><div class=\"sk-toggleable__content\"><pre>PolynomialFeatures()</pre></div></div></div></div></div>"
            ]
          },
          "metadata": {},
          "execution_count": 22
        }
      ]
    },
    {
      "cell_type": "code",
      "source": [
        "Z = df[['Population', 'Area']]\n",
        "Z_pr=pr.fit_transform(Z)\n",
        "Z.shape"
      ],
      "metadata": {
        "colab": {
          "base_uri": "https://localhost:8080/"
        },
        "id": "EuE5cvHR_62k",
        "outputId": "704187db-e5a1-4c37-ea42-3d16c6b43c20"
      },
      "execution_count": null,
      "outputs": [
        {
          "output_type": "execute_result",
          "data": {
            "text/plain": [
              "(217, 2)"
            ]
          },
          "metadata": {},
          "execution_count": 25
        }
      ]
    },
    {
      "cell_type": "markdown",
      "source": [
        "У вихідних даних 217 спостереження і 2 ознаки"
      ],
      "metadata": {
        "id": "qarSCRAo_85x"
      }
    },
    {
      "cell_type": "code",
      "source": [
        "Z_pr.shape\n"
      ],
      "metadata": {
        "colab": {
          "base_uri": "https://localhost:8080/"
        },
        "id": "LSrx8RDIABSH",
        "outputId": "883405a2-2f2c-4d1f-b417-97eab59e281f"
      },
      "execution_count": null,
      "outputs": [
        {
          "output_type": "execute_result",
          "data": {
            "text/plain": [
              "(217, 6)"
            ]
          },
          "metadata": {},
          "execution_count": 26
        }
      ]
    },
    {
      "cell_type": "markdown",
      "source": [
        "Після трансформації маємо 217 спостереження і 6 ознак"
      ],
      "metadata": {
        "id": "n4NNTB4NAMHc"
      }
    },
    {
      "cell_type": "code",
      "source": [
        "y_hat6 = LinearRegression()\n",
        "y_hat6.fit(Z_pr, Y)"
      ],
      "metadata": {
        "colab": {
          "base_uri": "https://localhost:8080/",
          "height": 74
        },
        "id": "ZanTZBbHARZB",
        "outputId": "ed287ee4-d9ef-4422-d9cf-c49924aa83d5"
      },
      "execution_count": null,
      "outputs": [
        {
          "output_type": "execute_result",
          "data": {
            "text/plain": [
              "LinearRegression()"
            ],
            "text/html": [
              "<style>#sk-container-id-6 {color: black;background-color: white;}#sk-container-id-6 pre{padding: 0;}#sk-container-id-6 div.sk-toggleable {background-color: white;}#sk-container-id-6 label.sk-toggleable__label {cursor: pointer;display: block;width: 100%;margin-bottom: 0;padding: 0.3em;box-sizing: border-box;text-align: center;}#sk-container-id-6 label.sk-toggleable__label-arrow:before {content: \"▸\";float: left;margin-right: 0.25em;color: #696969;}#sk-container-id-6 label.sk-toggleable__label-arrow:hover:before {color: black;}#sk-container-id-6 div.sk-estimator:hover label.sk-toggleable__label-arrow:before {color: black;}#sk-container-id-6 div.sk-toggleable__content {max-height: 0;max-width: 0;overflow: hidden;text-align: left;background-color: #f0f8ff;}#sk-container-id-6 div.sk-toggleable__content pre {margin: 0.2em;color: black;border-radius: 0.25em;background-color: #f0f8ff;}#sk-container-id-6 input.sk-toggleable__control:checked~div.sk-toggleable__content {max-height: 200px;max-width: 100%;overflow: auto;}#sk-container-id-6 input.sk-toggleable__control:checked~label.sk-toggleable__label-arrow:before {content: \"▾\";}#sk-container-id-6 div.sk-estimator input.sk-toggleable__control:checked~label.sk-toggleable__label {background-color: #d4ebff;}#sk-container-id-6 div.sk-label input.sk-toggleable__control:checked~label.sk-toggleable__label {background-color: #d4ebff;}#sk-container-id-6 input.sk-hidden--visually {border: 0;clip: rect(1px 1px 1px 1px);clip: rect(1px, 1px, 1px, 1px);height: 1px;margin: -1px;overflow: hidden;padding: 0;position: absolute;width: 1px;}#sk-container-id-6 div.sk-estimator {font-family: monospace;background-color: #f0f8ff;border: 1px dotted black;border-radius: 0.25em;box-sizing: border-box;margin-bottom: 0.5em;}#sk-container-id-6 div.sk-estimator:hover {background-color: #d4ebff;}#sk-container-id-6 div.sk-parallel-item::after {content: \"\";width: 100%;border-bottom: 1px solid gray;flex-grow: 1;}#sk-container-id-6 div.sk-label:hover label.sk-toggleable__label {background-color: #d4ebff;}#sk-container-id-6 div.sk-serial::before {content: \"\";position: absolute;border-left: 1px solid gray;box-sizing: border-box;top: 0;bottom: 0;left: 50%;z-index: 0;}#sk-container-id-6 div.sk-serial {display: flex;flex-direction: column;align-items: center;background-color: white;padding-right: 0.2em;padding-left: 0.2em;position: relative;}#sk-container-id-6 div.sk-item {position: relative;z-index: 1;}#sk-container-id-6 div.sk-parallel {display: flex;align-items: stretch;justify-content: center;background-color: white;position: relative;}#sk-container-id-6 div.sk-item::before, #sk-container-id-6 div.sk-parallel-item::before {content: \"\";position: absolute;border-left: 1px solid gray;box-sizing: border-box;top: 0;bottom: 0;left: 50%;z-index: -1;}#sk-container-id-6 div.sk-parallel-item {display: flex;flex-direction: column;z-index: 1;position: relative;background-color: white;}#sk-container-id-6 div.sk-parallel-item:first-child::after {align-self: flex-end;width: 50%;}#sk-container-id-6 div.sk-parallel-item:last-child::after {align-self: flex-start;width: 50%;}#sk-container-id-6 div.sk-parallel-item:only-child::after {width: 0;}#sk-container-id-6 div.sk-dashed-wrapped {border: 1px dashed gray;margin: 0 0.4em 0.5em 0.4em;box-sizing: border-box;padding-bottom: 0.4em;background-color: white;}#sk-container-id-6 div.sk-label label {font-family: monospace;font-weight: bold;display: inline-block;line-height: 1.2em;}#sk-container-id-6 div.sk-label-container {text-align: center;}#sk-container-id-6 div.sk-container {/* jupyter's `normalize.less` sets `[hidden] { display: none; }` but bootstrap.min.css set `[hidden] { display: none !important; }` so we also need the `!important` here to be able to override the default hidden behavior on the sphinx rendered scikit-learn.org. See: https://github.com/scikit-learn/scikit-learn/issues/21755 */display: inline-block !important;position: relative;}#sk-container-id-6 div.sk-text-repr-fallback {display: none;}</style><div id=\"sk-container-id-6\" class=\"sk-top-container\"><div class=\"sk-text-repr-fallback\"><pre>LinearRegression()</pre><b>In a Jupyter environment, please rerun this cell to show the HTML representation or trust the notebook. <br />On GitHub, the HTML representation is unable to render, please try loading this page with nbviewer.org.</b></div><div class=\"sk-container\" hidden><div class=\"sk-item\"><div class=\"sk-estimator sk-toggleable\"><input class=\"sk-toggleable__control sk-hidden--visually\" id=\"sk-estimator-id-6\" type=\"checkbox\" checked><label for=\"sk-estimator-id-6\" class=\"sk-toggleable__label sk-toggleable__label-arrow\">LinearRegression</label><div class=\"sk-toggleable__content\"><pre>LinearRegression()</pre></div></div></div></div></div>"
            ]
          },
          "metadata": {},
          "execution_count": 27
        }
      ]
    },
    {
      "cell_type": "markdown",
      "metadata": {
        "id": "EyiWHwcSu9vz"
      },
      "source": [
        "Знаходжу коефіцієнти моделі\n"
      ]
    },
    {
      "cell_type": "code",
      "execution_count": null,
      "metadata": {
        "id": "VysUe1wPu9vz",
        "colab": {
          "base_uri": "https://localhost:8080/"
        },
        "outputId": "7778b450-df2b-4d9a-8a83-a7f2b7093c63"
      },
      "outputs": [
        {
          "output_type": "stream",
          "name": "stdout",
          "text": [
            "a =  13674.972519003117\n",
            "b1 =  0.002269715936730399\n",
            "b2 =  0.021920434826170714\n",
            "b3 =  -3.110584272797423e-12\n",
            "b4 =  1.0201134034461121e-09\n",
            "b5 =  -4.106098340206901e-09\n"
          ]
        }
      ],
      "source": [
        "a = y_hat6.intercept_\n",
        "b = y_hat6.coef_\n",
        "print('a = ', a)\n",
        "for i in range(1, len(b)):\n",
        " print(f'b{i} = ', b[i])\n"
      ]
    },
    {
      "cell_type": "markdown",
      "source": [
        "Отримуємо:\n",
        "$$CO2emission = 13674.972790405358 + 0.0022697159359060365 ∗ Population + 0.021920434834211234 ∗ Area + −3.110584272797423e − 12 ∗ Population ∗ Area + 1.02011340159111e − 09 ∗ Population^2 + −4.106098340989453e − 09 ∗ Area^2\n",
        "$$"
      ],
      "metadata": {
        "id": "WsHF9hhbAZrP"
      }
    },
    {
      "cell_type": "markdown",
      "metadata": {
        "id": "HpdzLQWVu9vz"
      },
      "source": [
        "<a name=\"task4\"></a>\n",
        "<div class=\"alert alert-success alertsuccess\" style=\"margin-top: 20px\">\n",
        "\n",
        "## <h2 id=\"task4\">Завдання  #4: </h2>\n",
        "\n",
        "<p>Побудуйте візуалізації для оцінки всіх моделей.</p>\n",
        "</div>"
      ]
    },
    {
      "cell_type": "markdown",
      "metadata": {
        "id": "m6CCQKm9u9vz"
      },
      "source": [
        "Для простої лінійної регресії чудовим способом візуалізації відповідності моделі є використання графіків регресії. Цей графік покаже комбінацію розсіяних точок даних (діаграма розсіювання, scatterplot) та підігнану лінію лінійної регресії, що проходить через дані.\n",
        "\n",
        "Таким способом візуалізую перші моделі.\n"
      ]
    },
    {
      "cell_type": "code",
      "execution_count": null,
      "metadata": {
        "id": "kZwCbRiDu9v0",
        "colab": {
          "base_uri": "https://localhost:8080/",
          "height": 882
        },
        "outputId": "b59acd01-449f-4d82-b4c1-17d9709c0827"
      },
      "outputs": [
        {
          "output_type": "execute_result",
          "data": {
            "text/plain": [
              "(0.0, 12132959.720847992)"
            ]
          },
          "metadata": {},
          "execution_count": 30
        },
        {
          "output_type": "display_data",
          "data": {
            "text/plain": [
              "<Figure size 1200x1000 with 1 Axes>"
            ],
            "image/png": "[encoded data removed]"
          },
          "metadata": {}
        }
      ],
      "source": [
        "import seaborn as sns\n",
        "%matplotlib inline\n",
        "# Напишіть ваш код нижче та натисніть Shift+Enter для виконання\n",
        "width = 12\n",
        "height = 10\n",
        "plt.figure(figsize=(width, height))\n",
        "sns.regplot(x='Population', y='CO2 emission', data=df)\n",
        "plt.ylim(0,)\n"
      ]
    },
    {
      "cell_type": "markdown",
      "source": [
        "Кут нахилу лінії регресійної є позитивним, тому існує позитивний зв'язок між чисельністю населення та обсягом викидів вуглекислого газу."
      ],
      "metadata": {
        "id": "a9KGZnJaA1fW"
      }
    },
    {
      "cell_type": "code",
      "source": [
        "width = 12\n",
        "height = 10\n",
        "plt.figure(figsize=(width, height))\n",
        "sns.regplot(x='Area', y='CO2 emission', data=df)\n",
        "plt.ylim(0,)\n"
      ],
      "metadata": {
        "colab": {
          "base_uri": "https://localhost:8080/",
          "height": 882
        },
        "id": "RJCBaYGjBJjc",
        "outputId": "909f6827-d5d0-4639-cab7-3d67f8bf2841"
      },
      "execution_count": null,
      "outputs": [
        {
          "output_type": "execute_result",
          "data": {
            "text/plain": [
              "(0.0, 11348156.238928366)"
            ]
          },
          "metadata": {},
          "execution_count": 31
        },
        {
          "output_type": "display_data",
          "data": {
            "text/plain": [
              "<Figure size 1200x1000 with 1 Axes>"
            ],
            "image/png": "[encoded data removed]"
          },
          "metadata": {}
        }
      ]
    },
    {
      "cell_type": "markdown",
      "source": [
        "Також бачимо, що нахил лінійної регресії є позитивним, одже площа позитивно корелює з рівнем викидів СО2\n"
      ],
      "metadata": {
        "id": "UsPS74xsBMst"
      }
    },
    {
      "cell_type": "markdown",
      "metadata": {
        "id": "AQZqPdcTu9v0"
      },
      "source": [
        "Для візуалізації дисперсії даних використаю діаграми залишків.\n"
      ]
    },
    {
      "cell_type": "code",
      "execution_count": null,
      "metadata": {
        "id": "AMX59qa-u9v0",
        "colab": {
          "base_uri": "https://localhost:8080/",
          "height": 865
        },
        "outputId": "25d20465-71f2-4a65-dee7-62e01f8307f0"
      },
      "outputs": [
        {
          "output_type": "display_data",
          "data": {
            "text/plain": [
              "<Figure size 1200x1000 with 1 Axes>"
            ],
            "image/png": "[encoded data removed]"
          },
          "metadata": {}
        }
      ],
      "source": [
        "# Напишіть ваш код нижче та натисніть Shift+Enter для виконання\n",
        "width = 12\n",
        "height = 10\n",
        "plt.figure(figsize=(width, height))\n",
        "sns.residplot(x=df['Population'], y=df['CO2 emission'])\n",
        "plt.show()\n"
      ]
    },
    {
      "cell_type": "markdown",
      "source": [
        "На графіку залишків помітно, що розподіл залишків не є випадковим відносно осі абсцис; отже, це може свідчити про те, що для аналізу цих даних краще використовувати нелінійну модель."
      ],
      "metadata": {
        "id": "puiNzLKkBfmo"
      }
    },
    {
      "cell_type": "code",
      "source": [
        "width = 12\n",
        "height = 10\n",
        "plt.figure(figsize=(width, height))\n",
        "sns.residplot(x=df['Area'], y=df['CO2 emission'])\n",
        "plt.show()\n"
      ],
      "metadata": {
        "colab": {
          "base_uri": "https://localhost:8080/",
          "height": 865
        },
        "id": "57Ft9w_9BlQL",
        "outputId": "83709595-3896-42b5-f59d-c5f2e23d73c6"
      },
      "execution_count": null,
      "outputs": [
        {
          "output_type": "display_data",
          "data": {
            "text/plain": [
              "<Figure size 1200x1000 with 1 Axes>"
            ],
            "image/png": "[encoded data removed]"
          },
          "metadata": {}
        }
      ]
    },
    {
      "cell_type": "markdown",
      "source": [
        "Тут також помітно, що розподіл залишків не є випадковим відносно осі абсцис, отже, це може свідчити про те, що для аналізу цих даних краще використовувати нелінійну модель."
      ],
      "metadata": {
        "id": "CkBePXZ3BtAR"
      }
    },
    {
      "cell_type": "markdown",
      "metadata": {
        "id": "ktQqGQezu9v0"
      },
      "source": [
        "Для візуалізації моделі множинної лінійної регресії використаю діаграму розподілу.\n"
      ]
    },
    {
      "cell_type": "code",
      "execution_count": null,
      "metadata": {
        "id": "wKvPPFwfu9v1",
        "colab": {
          "base_uri": "https://localhost:8080/",
          "height": 1002
        },
        "outputId": "6f514345-270b-455d-9635-1877ad9a0ab2"
      },
      "outputs": [
        {
          "output_type": "stream",
          "name": "stderr",
          "text": [
            "<ipython-input-34-a9f842f59a26>:3: UserWarning: \n",
            "\n",
            "`distplot` is a deprecated function and will be removed in seaborn v0.14.0.\n",
            "\n",
            "Please adapt your code to use either `displot` (a figure-level function with\n",
            "similar flexibility) or `kdeplot` (an axes-level function for kernel density plots).\n",
            "\n",
            "For a guide to updating your code to use the new functions, please see\n",
            "https://gist.github.com/mwaskom/de44147ed2974457ad6372750bbe5751\n",
            "\n",
            "  ax1 = sns.distplot(df['CO2 emission'], hist=False, color=\"r\", label=\"Actual Value\")\n",
            "<ipython-input-34-a9f842f59a26>:5: UserWarning: \n",
            "\n",
            "`distplot` is a deprecated function and will be removed in seaborn v0.14.0.\n",
            "\n",
            "Please adapt your code to use either `displot` (a figure-level function with\n",
            "similar flexibility) or `kdeplot` (an axes-level function for kernel density plots).\n",
            "\n",
            "For a guide to updating your code to use the new functions, please see\n",
            "https://gist.github.com/mwaskom/de44147ed2974457ad6372750bbe5751\n",
            "\n",
            "  sns.distplot(y_hat, hist=False, color=\"b\", label=\"Fitted Values\" , ax=ax1)\n"
          ]
        },
        {
          "output_type": "display_data",
          "data": {
            "text/plain": [
              "<Figure size 1200x1000 with 1 Axes>"
            ],
            "image/png": "[encoded data removed]"
          },
          "metadata": {}
        }
      ],
      "source": [
        "# Напишіть ваш код нижче та натисніть Shift+Enter для виконання\n",
        "plt.figure(figsize=(width, height))\n",
        "ax1 = sns.distplot(df['CO2 emission'], hist=False, color=\"r\", label=\"Actual Value\")\n",
        "y_hat = lm3.predict(df[['Population', 'Area']])\n",
        "sns.distplot(y_hat, hist=False, color=\"b\", label=\"Fitted Values\" , ax=ax1)\n",
        "plt.title(\"Actual vs Fitted Values for CO2 emission\")\n",
        "plt.xlabel(\"CO2 Emission\")\n",
        "plt.ylabel(\"Density\")\n",
        "plt.show()\n",
        "plt.close()"
      ]
    },
    {
      "cell_type": "markdown",
      "source": [
        " Підігнані значення досить близькі до фактичних , тому що два розподіли трохи накладаються."
      ],
      "metadata": {
        "id": "PMFHGcOfFxo_"
      }
    },
    {
      "cell_type": "markdown",
      "metadata": {
        "id": "vhBh2931u9v1"
      },
      "source": [
        "Для візуалізації поліноміальних моделей з одним предиктором використаю функцію <code>poly1d</code>\n"
      ]
    },
    {
      "cell_type": "code",
      "execution_count": null,
      "metadata": {
        "id": "c9Y2MJlGu9v1",
        "colab": {
          "base_uri": "https://localhost:8080/"
        },
        "outputId": "c603787a-500c-4c8d-c950-1b1b8f6aed28"
      },
      "outputs": [
        {
          "output_type": "stream",
          "name": "stdout",
          "text": [
            "            2\n",
            "-3.004e-13 x + 0.00521 x - 7948\n"
          ]
        }
      ],
      "source": [
        "# Напишіть ваш код нижче та натисніть Shift+Enter для виконання\n",
        "print(np.poly1d(y_hat4))"
      ]
    },
    {
      "cell_type": "code",
      "source": [
        "print(np.poly1d(y_hat5))"
      ],
      "metadata": {
        "colab": {
          "base_uri": "https://localhost:8080/"
        },
        "id": "AHoya2JlGX4q",
        "outputId": "edcd45b5-3232-44ab-8521-da177801b829"
      },
      "execution_count": null,
      "outputs": [
        {
          "output_type": "stream",
          "name": "stdout",
          "text": [
            "            2\n",
            "-1.484e-08 x + 0.436 x - 4.963e+04\n"
          ]
        }
      ]
    },
    {
      "cell_type": "markdown",
      "metadata": {
        "id": "LyXdc-qFu9v1"
      },
      "source": [
        "Для візуалізації поліноміальних моделей з кількома предикторами використаю діаграму розподілу або діаграму залишків\n"
      ]
    },
    {
      "cell_type": "code",
      "execution_count": null,
      "metadata": {
        "id": "wG_a6p4Ju9v2",
        "colab": {
          "base_uri": "https://localhost:8080/",
          "height": 1002
        },
        "outputId": "8b9d6e1e-93cb-4f0c-da19-5b4fbb1bbae6"
      },
      "outputs": [
        {
          "output_type": "stream",
          "name": "stderr",
          "text": [
            "<ipython-input-37-6ef75f6065c5>:3: UserWarning: \n",
            "\n",
            "`distplot` is a deprecated function and will be removed in seaborn v0.14.0.\n",
            "\n",
            "Please adapt your code to use either `displot` (a figure-level function with\n",
            "similar flexibility) or `kdeplot` (an axes-level function for kernel density plots).\n",
            "\n",
            "For a guide to updating your code to use the new functions, please see\n",
            "https://gist.github.com/mwaskom/de44147ed2974457ad6372750bbe5751\n",
            "\n",
            "  ax1 = sns.distplot(df['CO2 emission'], hist=False, color=\"r\", label=\"Actual Value\")\n",
            "<ipython-input-37-6ef75f6065c5>:5: UserWarning: \n",
            "\n",
            "`distplot` is a deprecated function and will be removed in seaborn v0.14.0.\n",
            "\n",
            "Please adapt your code to use either `displot` (a figure-level function with\n",
            "similar flexibility) or `kdeplot` (an axes-level function for kernel density plots).\n",
            "\n",
            "For a guide to updating your code to use the new functions, please see\n",
            "https://gist.github.com/mwaskom/de44147ed2974457ad6372750bbe5751\n",
            "\n",
            "  sns.distplot(y_hat2, hist=False, color=\"b\", label=\"Fitted Values\" , ax=ax1)\n"
          ]
        },
        {
          "output_type": "display_data",
          "data": {
            "text/plain": [
              "<Figure size 1200x1000 with 1 Axes>"
            ],
            "image/png": "[encoded data removed]"
          },
          "metadata": {}
        }
      ],
      "source": [
        "# Напишіть ваш код нижче та натисніть Shift+Enter для виконання\n",
        "plt.figure(figsize=(width, height))\n",
        "ax1 = sns.distplot(df['CO2 emission'], hist=False, color=\"r\", label=\"Actual Value\")\n",
        "y_hat2 = y_hat6.predict(Z_pr)\n",
        "sns.distplot(y_hat2, hist=False, color=\"b\", label=\"Fitted Values\" , ax=ax1)\n",
        "plt.title(\"Actual vs Fitted Values for CO2 emission\")\n",
        "plt.xlabel(\"CO2 Emission\")\n",
        "plt.ylabel(\"Density\")\n",
        "plt.show()\n",
        "plt.close()"
      ]
    },
    {
      "cell_type": "markdown",
      "metadata": {
        "id": "yRng8WBqu9v2"
      },
      "source": [
        "<a name=\"task5\"></a>\n",
        "<div class=\"alert alert-success alertsuccess\" style=\"margin-top: 20px\">\n",
        "\n",
        "## <h2 id=\"task5\">Завдання  #5: </h2>\n",
        "\n",
        "<p>Порахуйте значення R^2 та MSE для оцінки якості кожної моделі. Оберіть найкращу модель.</p>\n",
        "</div>"
      ]
    },
    {
      "cell_type": "markdown",
      "metadata": {
        "id": "_YqnSuC7u9v2"
      },
      "source": [
        "Значення R^2 отримую безпосередньо з моделі <code>.score(X, Y)</code>, а для розрахунку MSE спочатку формую прогнозовані значення <code>.predict(X)</code> і порівнюю їх з фактичними\n"
      ]
    },
    {
      "cell_type": "code",
      "source": [
        "x1 = df[['Population']]\n",
        "x2 = df[['Area']]\n",
        "y = df['CO2 emission']\n"
      ],
      "metadata": {
        "id": "4Zm3x1lDGjO4"
      },
      "execution_count": null,
      "outputs": []
    },
    {
      "cell_type": "markdown",
      "metadata": {
        "id": "nfHkimIgu9v3"
      },
      "source": [
        "Модель 1:\n",
        "$$\n",
        "Yhat1 = a + b  X\n",
        "$$\n"
      ]
    },
    {
      "cell_type": "code",
      "execution_count": null,
      "metadata": {
        "id": "_X3ocRfbu9v3",
        "colab": {
          "base_uri": "https://localhost:8080/"
        },
        "outputId": "cfba01ec-7a0e-4d57-fd16-08f7cab290a6"
      },
      "outputs": [
        {
          "output_type": "stream",
          "name": "stdout",
          "text": [
            "The R-square is:  0.6435755233131817\n"
          ]
        }
      ],
      "source": [
        "# Напишіть ваш код нижче та натисніть Shift+Enter для виконання\n",
        "print('The R-square is: ', lm.score(x1, Y))"
      ]
    },
    {
      "cell_type": "markdown",
      "source": [
        "Можна сказати, що ~64.36% варіації рівня викидів СО2 пояснюється цією простою лінійною моделлю \"Population_fit\".\n"
      ],
      "metadata": {
        "id": "otRKv_qeGrAK"
      }
    },
    {
      "cell_type": "code",
      "source": [
        "Yhat=lm.predict(x1)\n",
        "print('The output of the first four predicted value is: ', Yhat[0:4])"
      ],
      "metadata": {
        "colab": {
          "base_uri": "https://localhost:8080/"
        },
        "id": "SHdm80MHGzet",
        "outputId": "7b23d129-b002-497c-b246-ce87bc676e8a"
      },
      "execution_count": null,
      "outputs": [
        {
          "output_type": "stream",
          "name": "stdout",
          "text": [
            "The output of the first four predicted value is:  [166725.94304326  13118.67670299 195485.17184303   -514.12828729]\n"
          ]
        }
      ]
    },
    {
      "cell_type": "markdown",
      "source": [
        "Порівнюємо прогнозовані результати з фактичними"
      ],
      "metadata": {
        "id": "GSaxwSa6G7Z-"
      }
    },
    {
      "cell_type": "code",
      "source": [
        "from sklearn.metrics import mean_squared_error\n",
        "mse = mean_squared_error(y, Yhat)\n",
        "print('The mean square error of price and predicted value is: ', mse)"
      ],
      "metadata": {
        "colab": {
          "base_uri": "https://localhost:8080/"
        },
        "id": "SaiRWN1SHAdl",
        "outputId": "d61e5683-7f7a-4152-879d-053de60ff2d9"
      },
      "execution_count": null,
      "outputs": [
        {
          "output_type": "stream",
          "name": "stdout",
          "text": [
            "The mean square error of price and predicted value is:  232801816739.9179\n"
          ]
        }
      ]
    },
    {
      "cell_type": "markdown",
      "metadata": {
        "id": "TdFrlVsYu9v4"
      },
      "source": [
        "Модель 2:\n",
        "$$\n",
        "Yhat2 = a + b  X\n",
        "$$"
      ]
    },
    {
      "cell_type": "code",
      "execution_count": null,
      "metadata": {
        "id": "M4D-jg_Gu9v4",
        "colab": {
          "base_uri": "https://localhost:8080/"
        },
        "outputId": "22d2387e-e165-4192-92e1-338426650c23"
      },
      "outputs": [
        {
          "output_type": "stream",
          "name": "stdout",
          "text": [
            "The R-square is:  0.34282421100737426\n"
          ]
        }
      ],
      "source": [
        "# Напишіть ваш код нижче та натисніть Shift+Enter для виконання\n",
        "print('The R-square is: ', lm2.score(x2, Y))\n"
      ]
    },
    {
      "cell_type": "markdown",
      "source": [
        "Можна сказати, що ~34.28% варіації рівня викидів СО2 пояснюється цією простою лінійною моделлю \"Area_fit\""
      ],
      "metadata": {
        "id": "bdskRH7jHH3X"
      }
    },
    {
      "cell_type": "code",
      "source": [
        "Yhat=lm2.predict(x2)\n",
        "print('The output of the first four predicted value is: ', Yhat[0:4])\n"
      ],
      "metadata": {
        "colab": {
          "base_uri": "https://localhost:8080/"
        },
        "id": "c0IW4j80HLja",
        "outputId": "e70f255c-432f-4f90-ea3c-d11afc7e4585"
      },
      "execution_count": null,
      "outputs": [
        {
          "output_type": "stream",
          "name": "stdout",
          "text": [
            "The output of the first four predicted value is:  [173940.73285816  11993.5518378  622559.15320471   4585.25519437]\n"
          ]
        }
      ]
    },
    {
      "cell_type": "code",
      "source": [
        "mse = mean_squared_error(y, Yhat)\n",
        "print('The mean square error of price and predicted value is: ', mse)\n"
      ],
      "metadata": {
        "colab": {
          "base_uri": "https://localhost:8080/"
        },
        "id": "PmD_eQ3iHOaG",
        "outputId": "8f135464-a8df-449b-b7ba-b059591be287"
      },
      "execution_count": null,
      "outputs": [
        {
          "output_type": "stream",
          "name": "stdout",
          "text": [
            "The mean square error of price and predicted value is:  429240211045.894\n"
          ]
        }
      ]
    },
    {
      "cell_type": "markdown",
      "metadata": {
        "id": "kUzXxDo9u9v4"
      },
      "source": [
        "Модель 3:\n",
        "$$\n",
        "Yhat3 = a + b_1 X_1 + b_2 X_2\n",
        "$$"
      ]
    },
    {
      "cell_type": "code",
      "execution_count": null,
      "metadata": {
        "id": "hvpyLpihu9v5",
        "colab": {
          "base_uri": "https://localhost:8080/"
        },
        "outputId": "927a198b-17c0-4613-c6bb-27746d795804"
      },
      "outputs": [
        {
          "output_type": "stream",
          "name": "stdout",
          "text": [
            "The R-square is:  0.705452018011884\n"
          ]
        }
      ],
      "source": [
        "# Напишіть ваш код нижче та натисніть Shift+Enter для виконання\n",
        "Z = df[['Population', 'Area']]\n",
        "print('The R-square is: ', lm3.score(Z, Y))"
      ]
    },
    {
      "cell_type": "markdown",
      "source": [
        "Можна сказати, що ~70.54% варіації рівня викидів СО2 пояснюється цією простою лінійною моделлю \"Multi_fit\".\n"
      ],
      "metadata": {
        "id": "nxMpv6BrHSg6"
      }
    },
    {
      "cell_type": "code",
      "source": [
        "Y_predict_multifit = lm3.predict(Z)\n",
        "print('The output of the first four predicted value is: ', \\\n",
        " mean_squared_error(y, Y_predict_multifit))"
      ],
      "metadata": {
        "colab": {
          "base_uri": "https://localhost:8080/"
        },
        "id": "UaGygZUUHT4Z",
        "outputId": "bcc75138-e462-4afa-85a8-5afcc30e3606"
      },
      "execution_count": null,
      "outputs": [
        {
          "output_type": "stream",
          "name": "stdout",
          "text": [
            "The output of the first four predicted value is:  192386633940.86154\n"
          ]
        }
      ]
    },
    {
      "cell_type": "markdown",
      "metadata": {
        "id": "4vp_ZlFyu9v5"
      },
      "source": [
        "Модель 4:\n",
        "$$\n",
        "Yhat4 = a + b_1 X_1 + b_2 X_1^2  \n",
        "$$"
      ]
    },
    {
      "cell_type": "code",
      "execution_count": null,
      "metadata": {
        "id": "Eb1SNkaou9v5",
        "colab": {
          "base_uri": "https://localhost:8080/"
        },
        "outputId": "b05f150f-6918-4aa4-ec4a-b814920f0ea6"
      },
      "outputs": [
        {
          "output_type": "stream",
          "name": "stdout",
          "text": [
            "The R-square value is:  0.643890609154327\n"
          ]
        }
      ],
      "source": [
        "# Імпортуємо функцію r2_score з модуля metrics, оскільки використовуємо іншу функцію\n",
        "from sklearn.metrics import r2_score\n",
        "\n",
        "# Напишіть ваш код нижче та натисніть Shift+Enter для виконання\n",
        "p = np.poly1d(y_hat4)\n",
        "r_squared = r2_score(y, p(x1))\n",
        "print('The R-square value is: ', r_squared)"
      ]
    },
    {
      "cell_type": "markdown",
      "source": [
        "Можна сказати, що ~64.38% варіації рівня викидів СО2 пояснюється цією поліноміальною моделлю."
      ],
      "metadata": {
        "id": "Q6-R79oxHb7X"
      }
    },
    {
      "cell_type": "code",
      "source": [
        "mean_squared_error(y, p(x1))"
      ],
      "metadata": {
        "colab": {
          "base_uri": "https://localhost:8080/"
        },
        "id": "xnjzQSRHHeM7",
        "outputId": "b51a2923-841d-4f61-a89a-c69f1b421d77"
      },
      "execution_count": null,
      "outputs": [
        {
          "output_type": "execute_result",
          "data": {
            "text/plain": [
              "232596015620.61905"
            ]
          },
          "metadata": {},
          "execution_count": 48
        }
      ]
    },
    {
      "cell_type": "markdown",
      "metadata": {
        "id": "zlkLoYJfu9v5"
      },
      "source": [
        "Модель 5:\n",
        "$$\n",
        "Yhat5 = a + b_1 X_2 + b_2 X_2^2\n",
        "$$"
      ]
    },
    {
      "cell_type": "code",
      "execution_count": null,
      "metadata": {
        "id": "nxRQjNRCu9v6",
        "colab": {
          "base_uri": "https://localhost:8080/"
        },
        "outputId": "746b9137-b725-4145-8049-73e7174866eb"
      },
      "outputs": [
        {
          "output_type": "stream",
          "name": "stdout",
          "text": [
            "The R-square value is:  0.3698523918567882\n"
          ]
        }
      ],
      "source": [
        "# Напишіть ваш код нижче та натисніть Shift+Enter для виконання\n",
        "p = np.poly1d(y_hat5)\n",
        "r_squared = r2_score(y, p(x2))\n",
        "print('The R-square value is: ', r_squared)\n"
      ]
    },
    {
      "cell_type": "markdown",
      "source": [
        "Можна сказати, що ~36.98% варіації рівня викидів СО2 пояснюється цією поліноміальною моделлю."
      ],
      "metadata": {
        "id": "EQhDuDFqHkQN"
      }
    },
    {
      "cell_type": "code",
      "source": [
        "mean_squared_error(y, p(x2))\n"
      ],
      "metadata": {
        "colab": {
          "base_uri": "https://localhost:8080/"
        },
        "id": "Kt2QleBLHoUg",
        "outputId": "0ba6d62e-da92-4511-9ccf-25ddf736c811"
      },
      "execution_count": null,
      "outputs": [
        {
          "output_type": "execute_result",
          "data": {
            "text/plain": [
              "411586514354.2175"
            ]
          },
          "metadata": {},
          "execution_count": 50
        }
      ]
    },
    {
      "cell_type": "markdown",
      "metadata": {
        "id": "sGRBzdgru9v6"
      },
      "source": [
        "Модель 6:\n",
        "$$\n",
        "Yhat6 = a + b_1 X_1 + b_2 X_2 + b_3 X_1 X_2 + b_4 X_1^2 + b_5 X_2^2\n",
        "$$"
      ]
    },
    {
      "cell_type": "code",
      "execution_count": null,
      "metadata": {
        "id": "SDcYergvu9v6",
        "colab": {
          "base_uri": "https://localhost:8080/"
        },
        "outputId": "344030ae-1fd8-4fda-fba4-08cd50839749"
      },
      "outputs": [
        {
          "output_type": "stream",
          "name": "stdout",
          "text": [
            "The R-square value is:  0.9359013231949528\n"
          ]
        }
      ],
      "source": [
        "# Напишіть ваш код нижче та натисніть Shift+Enter для виконання\n",
        "r_squared = y_hat6.score(Z_pr, Y)\n",
        "print('The R-square value is: ', r_squared)"
      ]
    },
    {
      "cell_type": "markdown",
      "source": [
        "Можна сказати, що ~93.59% варіації рівня викидів СО2 пояснюється цією поліноміальною моделлю.\n"
      ],
      "metadata": {
        "id": "0CfOZ_QbHtS_"
      }
    },
    {
      "cell_type": "markdown",
      "source": [
        "mean_squared_error(y, y_hat6.predict(Z_pr))"
      ],
      "metadata": {
        "id": "_HInloSVHvvE"
      }
    },
    {
      "cell_type": "markdown",
      "metadata": {
        "id": "L8P61Jqnu9v7"
      },
      "source": [
        "<h4>Висновок</h4>\n",
        "\n",
        "<p>Порівнюючи всі моделі, роблю висновок, що <b>модель y_hat6 є найкращою моделлю</b> для прогнозування 'CO2 emission' на основі нашого набору даних. </p>\n"
      ]
    },
    {
      "cell_type": "markdown",
      "metadata": {
        "id": "swhB5PMAu9v7"
      },
      "source": [
        "<a name=\"task6\"></a>\n",
        "<div class=\"alert alert-success alertsuccess\" style=\"margin-top: 20px\">\n",
        "\n",
        "## <h2 id=\"task6\"> Додаткове завдання: </h2>\n",
        "\n",
        "<p>Побудуйте та оцініть кілька поліноміальних моделей різних порядків.</p>\n",
        "</div>"
      ]
    },
    {
      "cell_type": "markdown",
      "metadata": {
        "id": "w3b9TFAAu9v7"
      },
      "source": [
        "1. Побудуйте кілька поліноміальних моделей різних порядків.\n",
        "2. Побудуйте візуалізації для оцінки всіх моделей.\n",
        "3. Порахуйте значення R^2 та MSE для оцінки якості кожної моделі. Оберіть найкращу модель.\n"
      ]
    },
    {
      "cell_type": "markdown",
      "source": [
        "1. Побудуйте кілька поліноміальних моделей різних порядків."
      ],
      "metadata": {
        "id": "1ihpfGYfLN2q"
      }
    },
    {
      "cell_type": "markdown",
      "source": [
        "Створюю об’єкт поліноміальної регресії та навчаю поліноміальну модель із структурою\n",
        "$$\n",
        "Yhat7 = a + b_1 X_1 + b_2 X_1^2  \n",
        "$$"
      ],
      "metadata": {
        "id": "bDPb4UGvIskq"
      }
    },
    {
      "cell_type": "code",
      "execution_count": null,
      "metadata": {
        "id": "jTmoxvTZu9v8",
        "colab": {
          "base_uri": "https://localhost:8080/"
        },
        "outputId": "7d35c125-5fd4-4729-f256-dfaa3a1e73aa"
      },
      "outputs": [
        {
          "output_type": "stream",
          "name": "stdout",
          "text": [
            "            2\n",
            "-1.353e-11 x + 0.02313 x + 8.443e+04\n"
          ]
        }
      ],
      "source": [
        "# Напишіть ваш код нижче та натисніть Shift+Enter для виконання\n",
        "y = df['Area']\n",
        "x1 = df['Population']\n",
        "x2 = df['CO2 emission']\n",
        "y_hat7 = np.polyfit(x1, y, 2)\n",
        "p7 = np.poly1d(y_hat7)\n",
        "print(p7)\n"
      ]
    },
    {
      "cell_type": "markdown",
      "source": [
        "Створюю об’єкт поліноміальної регресії та навчаю поліноміальну модель із структурою\n",
        "$$\n",
        "Yhat8 = a + b_1 X_1 + b_2 X_1^2 + b_3 X_1^3  \n",
        "$$"
      ],
      "metadata": {
        "id": "aYTypxJGJuWH"
      }
    },
    {
      "cell_type": "code",
      "source": [
        "y_hat8 = np.polyfit(x1, y, 3)\n",
        "p8 = np.poly1d(y_hat8)\n",
        "print(p8)\n"
      ],
      "metadata": {
        "colab": {
          "base_uri": "https://localhost:8080/"
        },
        "id": "2Mou6FDvJ46m",
        "outputId": "7b9dc7c2-a37f-40a7-e497-47fedd5835d2"
      },
      "execution_count": null,
      "outputs": [
        {
          "output_type": "stream",
          "name": "stdout",
          "text": [
            "           3             2\n",
            "2.038e-20 x - 4.514e-11 x + 0.02863 x + 2.859e+04\n"
          ]
        }
      ]
    },
    {
      "cell_type": "markdown",
      "source": [
        "Створюю об’єкт поліноміальної регресії та навчаю поліноміальну модель із структурою\n",
        "$$\n",
        "Yhat9 = a + b_1 X_1 + b_2 X_2 + b_3 X_1 X_2 + b_4 X_1^2 + b_5 X_2^2\n",
        "$$"
      ],
      "metadata": {
        "id": "iTT_UPRSKWIo"
      }
    },
    {
      "cell_type": "code",
      "source": [
        "pr=PolynomialFeatures(degree=2)\n",
        "pr\n"
      ],
      "metadata": {
        "colab": {
          "base_uri": "https://localhost:8080/",
          "height": 74
        },
        "id": "fvcpDOhOKa0P",
        "outputId": "1d4449d1-8ed1-4e66-ff6a-0d2214dd1873"
      },
      "execution_count": null,
      "outputs": [
        {
          "output_type": "execute_result",
          "data": {
            "text/plain": [
              "PolynomialFeatures()"
            ],
            "text/html": [
              "<style>#sk-container-id-7 {color: black;background-color: white;}#sk-container-id-7 pre{padding: 0;}#sk-container-id-7 div.sk-toggleable {background-color: white;}#sk-container-id-7 label.sk-toggleable__label {cursor: pointer;display: block;width: 100%;margin-bottom: 0;padding: 0.3em;box-sizing: border-box;text-align: center;}#sk-container-id-7 label.sk-toggleable__label-arrow:before {content: \"▸\";float: left;margin-right: 0.25em;color: #696969;}#sk-container-id-7 label.sk-toggleable__label-arrow:hover:before {color: black;}#sk-container-id-7 div.sk-estimator:hover label.sk-toggleable__label-arrow:before {color: black;}#sk-container-id-7 div.sk-toggleable__content {max-height: 0;max-width: 0;overflow: hidden;text-align: left;background-color: #f0f8ff;}#sk-container-id-7 div.sk-toggleable__content pre {margin: 0.2em;color: black;border-radius: 0.25em;background-color: #f0f8ff;}#sk-container-id-7 input.sk-toggleable__control:checked~div.sk-toggleable__content {max-height: 200px;max-width: 100%;overflow: auto;}#sk-container-id-7 input.sk-toggleable__control:checked~label.sk-toggleable__label-arrow:before {content: \"▾\";}#sk-container-id-7 div.sk-estimator input.sk-toggleable__control:checked~label.sk-toggleable__label {background-color: #d4ebff;}#sk-container-id-7 div.sk-label input.sk-toggleable__control:checked~label.sk-toggleable__label {background-color: #d4ebff;}#sk-container-id-7 input.sk-hidden--visually {border: 0;clip: rect(1px 1px 1px 1px);clip: rect(1px, 1px, 1px, 1px);height: 1px;margin: -1px;overflow: hidden;padding: 0;position: absolute;width: 1px;}#sk-container-id-7 div.sk-estimator {font-family: monospace;background-color: #f0f8ff;border: 1px dotted black;border-radius: 0.25em;box-sizing: border-box;margin-bottom: 0.5em;}#sk-container-id-7 div.sk-estimator:hover {background-color: #d4ebff;}#sk-container-id-7 div.sk-parallel-item::after {content: \"\";width: 100%;border-bottom: 1px solid gray;flex-grow: 1;}#sk-container-id-7 div.sk-label:hover label.sk-toggleable__label {background-color: #d4ebff;}#sk-container-id-7 div.sk-serial::before {content: \"\";position: absolute;border-left: 1px solid gray;box-sizing: border-box;top: 0;bottom: 0;left: 50%;z-index: 0;}#sk-container-id-7 div.sk-serial {display: flex;flex-direction: column;align-items: center;background-color: white;padding-right: 0.2em;padding-left: 0.2em;position: relative;}#sk-container-id-7 div.sk-item {position: relative;z-index: 1;}#sk-container-id-7 div.sk-parallel {display: flex;align-items: stretch;justify-content: center;background-color: white;position: relative;}#sk-container-id-7 div.sk-item::before, #sk-container-id-7 div.sk-parallel-item::before {content: \"\";position: absolute;border-left: 1px solid gray;box-sizing: border-box;top: 0;bottom: 0;left: 50%;z-index: -1;}#sk-container-id-7 div.sk-parallel-item {display: flex;flex-direction: column;z-index: 1;position: relative;background-color: white;}#sk-container-id-7 div.sk-parallel-item:first-child::after {align-self: flex-end;width: 50%;}#sk-container-id-7 div.sk-parallel-item:last-child::after {align-self: flex-start;width: 50%;}#sk-container-id-7 div.sk-parallel-item:only-child::after {width: 0;}#sk-container-id-7 div.sk-dashed-wrapped {border: 1px dashed gray;margin: 0 0.4em 0.5em 0.4em;box-sizing: border-box;padding-bottom: 0.4em;background-color: white;}#sk-container-id-7 div.sk-label label {font-family: monospace;font-weight: bold;display: inline-block;line-height: 1.2em;}#sk-container-id-7 div.sk-label-container {text-align: center;}#sk-container-id-7 div.sk-container {/* jupyter's `normalize.less` sets `[hidden] { display: none; }` but bootstrap.min.css set `[hidden] { display: none !important; }` so we also need the `!important` here to be able to override the default hidden behavior on the sphinx rendered scikit-learn.org. See: https://github.com/scikit-learn/scikit-learn/issues/21755 */display: inline-block !important;position: relative;}#sk-container-id-7 div.sk-text-repr-fallback {display: none;}</style><div id=\"sk-container-id-7\" class=\"sk-top-container\"><div class=\"sk-text-repr-fallback\"><pre>PolynomialFeatures()</pre><b>In a Jupyter environment, please rerun this cell to show the HTML representation or trust the notebook. <br />On GitHub, the HTML representation is unable to render, please try loading this page with nbviewer.org.</b></div><div class=\"sk-container\" hidden><div class=\"sk-item\"><div class=\"sk-estimator sk-toggleable\"><input class=\"sk-toggleable__control sk-hidden--visually\" id=\"sk-estimator-id-7\" type=\"checkbox\" checked><label for=\"sk-estimator-id-7\" class=\"sk-toggleable__label sk-toggleable__label-arrow\">PolynomialFeatures</label><div class=\"sk-toggleable__content\"><pre>PolynomialFeatures()</pre></div></div></div></div></div>"
            ]
          },
          "metadata": {},
          "execution_count": 53
        }
      ]
    },
    {
      "cell_type": "code",
      "source": [
        "Z = df[['Population', 'CO2 emission']]\n",
        "Z_pr=pr.fit_transform(Z)\n",
        "Z.shape"
      ],
      "metadata": {
        "colab": {
          "base_uri": "https://localhost:8080/"
        },
        "id": "BWXeTLL9KyZL",
        "outputId": "124bb8fd-a69c-43ea-c26e-f9cb17a0e1ac"
      },
      "execution_count": null,
      "outputs": [
        {
          "output_type": "execute_result",
          "data": {
            "text/plain": [
              "(217, 2)"
            ]
          },
          "metadata": {},
          "execution_count": 55
        }
      ]
    },
    {
      "cell_type": "markdown",
      "source": [
        "У вихідних даних 217 спостереження і 2 ознаки"
      ],
      "metadata": {
        "id": "a35mYczgLuTL"
      }
    },
    {
      "cell_type": "code",
      "source": [
        "Z_pr.shape"
      ],
      "metadata": {
        "colab": {
          "base_uri": "https://localhost:8080/"
        },
        "id": "PjCrCo2NK6hr",
        "outputId": "7e08f1a1-4613-41ef-d148-98e8bf113b95"
      },
      "execution_count": null,
      "outputs": [
        {
          "output_type": "execute_result",
          "data": {
            "text/plain": [
              "(217, 6)"
            ]
          },
          "metadata": {},
          "execution_count": 56
        }
      ]
    },
    {
      "cell_type": "markdown",
      "source": [
        "Після трансформації маємо 217 спостереження і 6 ознак"
      ],
      "metadata": {
        "id": "c_nZgtz5LpNG"
      }
    },
    {
      "cell_type": "code",
      "source": [
        "y_hat10 = LinearRegression()\n",
        "y_hat10.fit(Z_pr, df[['Area']])"
      ],
      "metadata": {
        "colab": {
          "base_uri": "https://localhost:8080/",
          "height": 74
        },
        "id": "BAZNedNOLD_s",
        "outputId": "e04156e3-a191-4e2d-f737-ca4ec931ffcb"
      },
      "execution_count": null,
      "outputs": [
        {
          "output_type": "execute_result",
          "data": {
            "text/plain": [
              "LinearRegression()"
            ],
            "text/html": [
              "<style>#sk-container-id-8 {color: black;background-color: white;}#sk-container-id-8 pre{padding: 0;}#sk-container-id-8 div.sk-toggleable {background-color: white;}#sk-container-id-8 label.sk-toggleable__label {cursor: pointer;display: block;width: 100%;margin-bottom: 0;padding: 0.3em;box-sizing: border-box;text-align: center;}#sk-container-id-8 label.sk-toggleable__label-arrow:before {content: \"▸\";float: left;margin-right: 0.25em;color: #696969;}#sk-container-id-8 label.sk-toggleable__label-arrow:hover:before {color: black;}#sk-container-id-8 div.sk-estimator:hover label.sk-toggleable__label-arrow:before {color: black;}#sk-container-id-8 div.sk-toggleable__content {max-height: 0;max-width: 0;overflow: hidden;text-align: left;background-color: #f0f8ff;}#sk-container-id-8 div.sk-toggleable__content pre {margin: 0.2em;color: black;border-radius: 0.25em;background-color: #f0f8ff;}#sk-container-id-8 input.sk-toggleable__control:checked~div.sk-toggleable__content {max-height: 200px;max-width: 100%;overflow: auto;}#sk-container-id-8 input.sk-toggleable__control:checked~label.sk-toggleable__label-arrow:before {content: \"▾\";}#sk-container-id-8 div.sk-estimator input.sk-toggleable__control:checked~label.sk-toggleable__label {background-color: #d4ebff;}#sk-container-id-8 div.sk-label input.sk-toggleable__control:checked~label.sk-toggleable__label {background-color: #d4ebff;}#sk-container-id-8 input.sk-hidden--visually {border: 0;clip: rect(1px 1px 1px 1px);clip: rect(1px, 1px, 1px, 1px);height: 1px;margin: -1px;overflow: hidden;padding: 0;position: absolute;width: 1px;}#sk-container-id-8 div.sk-estimator {font-family: monospace;background-color: #f0f8ff;border: 1px dotted black;border-radius: 0.25em;box-sizing: border-box;margin-bottom: 0.5em;}#sk-container-id-8 div.sk-estimator:hover {background-color: #d4ebff;}#sk-container-id-8 div.sk-parallel-item::after {content: \"\";width: 100%;border-bottom: 1px solid gray;flex-grow: 1;}#sk-container-id-8 div.sk-label:hover label.sk-toggleable__label {background-color: #d4ebff;}#sk-container-id-8 div.sk-serial::before {content: \"\";position: absolute;border-left: 1px solid gray;box-sizing: border-box;top: 0;bottom: 0;left: 50%;z-index: 0;}#sk-container-id-8 div.sk-serial {display: flex;flex-direction: column;align-items: center;background-color: white;padding-right: 0.2em;padding-left: 0.2em;position: relative;}#sk-container-id-8 div.sk-item {position: relative;z-index: 1;}#sk-container-id-8 div.sk-parallel {display: flex;align-items: stretch;justify-content: center;background-color: white;position: relative;}#sk-container-id-8 div.sk-item::before, #sk-container-id-8 div.sk-parallel-item::before {content: \"\";position: absolute;border-left: 1px solid gray;box-sizing: border-box;top: 0;bottom: 0;left: 50%;z-index: -1;}#sk-container-id-8 div.sk-parallel-item {display: flex;flex-direction: column;z-index: 1;position: relative;background-color: white;}#sk-container-id-8 div.sk-parallel-item:first-child::after {align-self: flex-end;width: 50%;}#sk-container-id-8 div.sk-parallel-item:last-child::after {align-self: flex-start;width: 50%;}#sk-container-id-8 div.sk-parallel-item:only-child::after {width: 0;}#sk-container-id-8 div.sk-dashed-wrapped {border: 1px dashed gray;margin: 0 0.4em 0.5em 0.4em;box-sizing: border-box;padding-bottom: 0.4em;background-color: white;}#sk-container-id-8 div.sk-label label {font-family: monospace;font-weight: bold;display: inline-block;line-height: 1.2em;}#sk-container-id-8 div.sk-label-container {text-align: center;}#sk-container-id-8 div.sk-container {/* jupyter's `normalize.less` sets `[hidden] { display: none; }` but bootstrap.min.css set `[hidden] { display: none !important; }` so we also need the `!important` here to be able to override the default hidden behavior on the sphinx rendered scikit-learn.org. See: https://github.com/scikit-learn/scikit-learn/issues/21755 */display: inline-block !important;position: relative;}#sk-container-id-8 div.sk-text-repr-fallback {display: none;}</style><div id=\"sk-container-id-8\" class=\"sk-top-container\"><div class=\"sk-text-repr-fallback\"><pre>LinearRegression()</pre><b>In a Jupyter environment, please rerun this cell to show the HTML representation or trust the notebook. <br />On GitHub, the HTML representation is unable to render, please try loading this page with nbviewer.org.</b></div><div class=\"sk-container\" hidden><div class=\"sk-item\"><div class=\"sk-estimator sk-toggleable\"><input class=\"sk-toggleable__control sk-hidden--visually\" id=\"sk-estimator-id-8\" type=\"checkbox\" checked><label for=\"sk-estimator-id-8\" class=\"sk-toggleable__label sk-toggleable__label-arrow\">LinearRegression</label><div class=\"sk-toggleable__content\"><pre>LinearRegression()</pre></div></div></div></div></div>"
            ]
          },
          "metadata": {},
          "execution_count": 57
        }
      ]
    },
    {
      "cell_type": "markdown",
      "source": [
        "Знаходжу коефіцієнти моделі"
      ],
      "metadata": {
        "id": "PQ0q8zzPLGjb"
      }
    },
    {
      "cell_type": "code",
      "source": [
        "a = y_hat10.intercept_\n",
        "b = y_hat10.coef_\n",
        "print('a = ', a[0])\n",
        "for i in range(1, len(b[0])):\n",
        " print(f'b{i} = ', b[0][i])\n"
      ],
      "metadata": {
        "colab": {
          "base_uri": "https://localhost:8080/"
        },
        "id": "jBh-4OSHLHWW",
        "outputId": "fc458402-c922-44f7-dd13-be03bc0b5d40"
      },
      "execution_count": null,
      "outputs": [
        {
          "output_type": "stream",
          "name": "stdout",
          "text": [
            "a =  -1610.9766762340441\n",
            "b1 =  0.005381605382978716\n",
            "b2 =  5.312197068236807\n",
            "b3 =  -1.6232726100795514e-11\n",
            "b4 =  5.998304950493167e-09\n",
            "b5 =  -1.0079511807353051e-06\n"
          ]
        }
      ]
    },
    {
      "cell_type": "markdown",
      "source": [
        "2. Побудова візуалізацій для оцінки моделі"
      ],
      "metadata": {
        "id": "-uqrNQLqLTB4"
      }
    },
    {
      "cell_type": "code",
      "source": [
        "plt.figure(figsize=(width, height))\n",
        "ax1 = sns.distplot(y, hist=False, color=\"r\", label=\"Actual Value\")\n",
        "y_hat15 = y_hat10.predict(Z_pr)\n",
        "sns.distplot(y_hat15, hist=False, color=\"b\", label=\"Fitted Values\" , ax=ax1)\n",
        "plt.title(\"Actual vs Fitted Values for Area\")\n",
        "plt.xlabel(\"Area\")\n",
        "plt.ylabel(\"Density\")\n",
        "plt.show()\n",
        "plt.close()"
      ],
      "metadata": {
        "colab": {
          "base_uri": "https://localhost:8080/",
          "height": 1004
        },
        "id": "6IpSzfUULVc_",
        "outputId": "55486d90-ade4-43f7-f05c-78dada27e3ee"
      },
      "execution_count": null,
      "outputs": [
        {
          "output_type": "stream",
          "name": "stderr",
          "text": [
            "<ipython-input-61-88379fd364b6>:2: UserWarning: \n",
            "\n",
            "`distplot` is a deprecated function and will be removed in seaborn v0.14.0.\n",
            "\n",
            "Please adapt your code to use either `displot` (a figure-level function with\n",
            "similar flexibility) or `kdeplot` (an axes-level function for kernel density plots).\n",
            "\n",
            "For a guide to updating your code to use the new functions, please see\n",
            "https://gist.github.com/mwaskom/de44147ed2974457ad6372750bbe5751\n",
            "\n",
            "  ax1 = sns.distplot(y, hist=False, color=\"r\", label=\"Actual Value\")\n",
            "<ipython-input-61-88379fd364b6>:4: UserWarning: \n",
            "\n",
            "`distplot` is a deprecated function and will be removed in seaborn v0.14.0.\n",
            "\n",
            "Please adapt your code to use either `displot` (a figure-level function with\n",
            "similar flexibility) or `kdeplot` (an axes-level function for kernel density plots).\n",
            "\n",
            "For a guide to updating your code to use the new functions, please see\n",
            "https://gist.github.com/mwaskom/de44147ed2974457ad6372750bbe5751\n",
            "\n",
            "  sns.distplot(y_hat15, hist=False, color=\"b\", label=\"Fitted Values\" , ax=ax1)\n"
          ]
        },
        {
          "output_type": "display_data",
          "data": {
            "text/plain": [
              "<Figure size 1200x1000 with 1 Axes>"
            ],
            "image/png": "[encoded data removed]"
          },
          "metadata": {}
        }
      ]
    },
    {
      "cell_type": "markdown",
      "source": [
        "Підігнані значення досить близькі до фактичних , тому що два розподіли трохи накладаються."
      ],
      "metadata": {
        "id": "ACr_eUrHLgCl"
      }
    },
    {
      "cell_type": "code",
      "source": [
        "sns.distplot(y, hist=False, color=\"r\", label=\"Actual Value\")\n",
        "Yhat_predicted = p8(x1)\n",
        "sns.distplot(Yhat_predicted, hist=False, color=\"b\", label=\"Fitted Values\")\n",
        "plt.title(\"Actual vs Fitted Values for Area\")\n",
        "plt.xlabel(\"Area\")\n",
        "plt.ylabel(\"Density\")\n",
        "plt.legend()\n",
        "plt.show()\n",
        "plt.close()\n"
      ],
      "metadata": {
        "colab": {
          "base_uri": "https://localhost:8080/",
          "height": 854
        },
        "id": "b_tvvvFDLiGt",
        "outputId": "2bc8f7cf-61fb-4b8b-a6d8-6304102b106c"
      },
      "execution_count": null,
      "outputs": [
        {
          "output_type": "stream",
          "name": "stderr",
          "text": [
            "<ipython-input-63-a48a40f5e3dd>:1: UserWarning: \n",
            "\n",
            "`distplot` is a deprecated function and will be removed in seaborn v0.14.0.\n",
            "\n",
            "Please adapt your code to use either `displot` (a figure-level function with\n",
            "similar flexibility) or `kdeplot` (an axes-level function for kernel density plots).\n",
            "\n",
            "For a guide to updating your code to use the new functions, please see\n",
            "https://gist.github.com/mwaskom/de44147ed2974457ad6372750bbe5751\n",
            "\n",
            "  sns.distplot(y, hist=False, color=\"r\", label=\"Actual Value\")\n",
            "<ipython-input-63-a48a40f5e3dd>:3: UserWarning: \n",
            "\n",
            "`distplot` is a deprecated function and will be removed in seaborn v0.14.0.\n",
            "\n",
            "Please adapt your code to use either `displot` (a figure-level function with\n",
            "similar flexibility) or `kdeplot` (an axes-level function for kernel density plots).\n",
            "\n",
            "For a guide to updating your code to use the new functions, please see\n",
            "https://gist.github.com/mwaskom/de44147ed2974457ad6372750bbe5751\n",
            "\n",
            "  sns.distplot(Yhat_predicted, hist=False, color=\"b\", label=\"Fitted Values\")\n"
          ]
        },
        {
          "output_type": "display_data",
          "data": {
            "text/plain": [
              "<Figure size 640x480 with 1 Axes>"
            ],
            "image/png": "[encoded data removed]"
          },
          "metadata": {}
        }
      ]
    },
    {
      "cell_type": "markdown",
      "source": [
        "Підігнані значення не такі близькі до фактичних , тому що два розподіли не завжди накладаються."
      ],
      "metadata": {
        "id": "kdVBypWlMKJE"
      }
    },
    {
      "cell_type": "code",
      "source": [
        "sns.distplot(y, hist=False, color=\"r\", label=\"Actual Value\")\n",
        "Yhat_predicted = p7(x1)\n",
        "sns.distplot(Yhat_predicted, hist=False, color=\"b\", label=\"Fitted Values\")\n",
        "plt.title(\"Actual vs Fitted Values for Area\")\n",
        "plt.xlabel(\"Area\")\n",
        "plt.ylabel(\"Density\")\n",
        "plt.legend()\n",
        "plt.show()\n",
        "plt.close()"
      ],
      "metadata": {
        "colab": {
          "base_uri": "https://localhost:8080/",
          "height": 854
        },
        "id": "C83c_oonMQT9",
        "outputId": "aa620a1f-a8a1-4783-9fbb-e350d7222e85"
      },
      "execution_count": null,
      "outputs": [
        {
          "output_type": "stream",
          "name": "stderr",
          "text": [
            "<ipython-input-64-443109ee78f8>:1: UserWarning: \n",
            "\n",
            "`distplot` is a deprecated function and will be removed in seaborn v0.14.0.\n",
            "\n",
            "Please adapt your code to use either `displot` (a figure-level function with\n",
            "similar flexibility) or `kdeplot` (an axes-level function for kernel density plots).\n",
            "\n",
            "For a guide to updating your code to use the new functions, please see\n",
            "https://gist.github.com/mwaskom/de44147ed2974457ad6372750bbe5751\n",
            "\n",
            "  sns.distplot(y, hist=False, color=\"r\", label=\"Actual Value\")\n",
            "<ipython-input-64-443109ee78f8>:3: UserWarning: \n",
            "\n",
            "`distplot` is a deprecated function and will be removed in seaborn v0.14.0.\n",
            "\n",
            "Please adapt your code to use either `displot` (a figure-level function with\n",
            "similar flexibility) or `kdeplot` (an axes-level function for kernel density plots).\n",
            "\n",
            "For a guide to updating your code to use the new functions, please see\n",
            "https://gist.github.com/mwaskom/de44147ed2974457ad6372750bbe5751\n",
            "\n",
            "  sns.distplot(Yhat_predicted, hist=False, color=\"b\", label=\"Fitted Values\")\n"
          ]
        },
        {
          "output_type": "display_data",
          "data": {
            "text/plain": [
              "<Figure size 640x480 with 1 Axes>"
            ],
            "image/png": "[encoded data removed]"
          },
          "metadata": {}
        }
      ]
    },
    {
      "cell_type": "markdown",
      "source": [
        "Значення розходяться"
      ],
      "metadata": {
        "id": "Zz7TLNF-MUY8"
      }
    },
    {
      "cell_type": "markdown",
      "source": [
        "3. Порахуйте значення R^2 та MSE для оцінки якості кожної моделі. Оберіть найкращу модель.\n"
      ],
      "metadata": {
        "id": "tySho_1YMaan"
      }
    },
    {
      "cell_type": "code",
      "source": [
        "print('The R-square is: ', r2_score(y, p7(x1)))\n",
        "mse = mean_squared_error(y, p7(x1))\n",
        "print('The mean square error of price and predicted value is: ', mse)"
      ],
      "metadata": {
        "colab": {
          "base_uri": "https://localhost:8080/"
        },
        "id": "nNGY8NT4MdvY",
        "outputId": "be015d95-6b5a-46f9-f8a1-9b8b80beb5a6"
      },
      "execution_count": null,
      "outputs": [
        {
          "output_type": "stream",
          "name": "stdout",
          "text": [
            "The R-square is:  0.3312603114344269\n",
            "The mean square error of price and predicted value is:  2223939278717.754\n"
          ]
        }
      ]
    },
    {
      "cell_type": "markdown",
      "source": [
        "Можна сказати, що ~33.12% варіації площі пояснюється цією поліноміальною моделлю."
      ],
      "metadata": {
        "id": "lBySR8OgMeho"
      }
    },
    {
      "cell_type": "code",
      "source": [
        "print('The R-square is: ', r2_score(y, p8(x1)))\n",
        "mse = mean_squared_error(y, p8(x1))\n",
        "print('The mean square error of price and predicted value is: ', mse)"
      ],
      "metadata": {
        "colab": {
          "base_uri": "https://localhost:8080/"
        },
        "id": "D8VHPLm2MiHf",
        "outputId": "008c7748-ebc2-4050-ac48-906f9ea14964"
      },
      "execution_count": null,
      "outputs": [
        {
          "output_type": "stream",
          "name": "stdout",
          "text": [
            "The R-square is:  0.3362811344624962\n",
            "The mean square error of price and predicted value is:  2207242190546.4736\n"
          ]
        }
      ]
    },
    {
      "cell_type": "markdown",
      "source": [
        "Можна сказати, що ~33.62% варіації площі пояснюється цією поліноміальною моделлю."
      ],
      "metadata": {
        "id": "gFvmA0xGM3lg"
      }
    },
    {
      "cell_type": "code",
      "source": [
        "print('The R-square is: ', y_hat10.score(Z_pr, df[['Area']]))\n",
        "mse = mean_squared_error(df[['Area']], y_hat10.predict(Z_pr))\n",
        "print('The mean square error of price and predicted value is: ', mse)"
      ],
      "metadata": {
        "colab": {
          "base_uri": "https://localhost:8080/"
        },
        "id": "N6aAcHxuMjJ6",
        "outputId": "c5e30aca-7451-433e-f843-13b1713c49eb"
      },
      "execution_count": null,
      "outputs": [
        {
          "output_type": "stream",
          "name": "stdout",
          "text": [
            "The R-square is:  0.5522722568174003\n",
            "The mean square error of price and predicted value is:  1488949035417.992\n"
          ]
        }
      ]
    },
    {
      "cell_type": "markdown",
      "source": [
        "Можна сказати, що ~55.22% варіації площі пояснюється цією поліноміальною моделлю.\n"
      ],
      "metadata": {
        "id": "1-kJPPeLNCVs"
      }
    },
    {
      "cell_type": "markdown",
      "source": [
        "Висновок:\n",
        "\n",
        "Таким чином, модель ( y_hat10 ), яка представляє собою багатофакторну поліноміальну регресію другого порядку, виявляється оптимальним вибором для прогнозування, оскільки вона має найвищий показник ( R^2 ) та найменшу середньоквадратичну помилку (MSE)."
      ],
      "metadata": {
        "id": "AT3-jKWUNf_4"
      }
    },
    {
      "cell_type": "markdown",
      "metadata": {
        "id": "3RCefwauu9v8"
      },
      "source": [
        "<h2>Виконав студент групи ІП-21<br>  Скрипець Ольга</h2>"
      ]
    },
    {
      "cell_type": "markdown",
      "source": [
        "\n",
        "\n",
        "\n",
        "\n",
        "\n",
        "\n",
        "\n",
        "\n",
        "\n",
        "\n",
        "\n",
        "\n",
        "\n",
        "\n",
        "\n",
        "\n",
        "\n",
        "\n",
        "\n",
        "\n",
        "\n",
        "\n",
        "\n",
        "\n",
        "\n",
        "\n",
        "\n",
        "\n",
        "\n",
        "\n",
        "\n",
        "\n",
        "\n",
        "\n",
        "\n",
        "\n",
        "\n",
        "\n",
        "\n",
        "\n",
        "\n",
        "\n",
        "\n",
        "\n",
        "\n",
        "\n",
        "\n",
        "\n",
        "\n",
        "\n",
        "\n",
        "\n",
        "\n",
        "\n",
        "\n",
        "\n",
        "\n",
        "\n",
        "\n",
        "\n",
        "\n",
        "\n",
        "\n",
        "\n",
        "\n",
        "\n",
        "\n",
        "\n",
        "\n",
        "\n",
        "\n",
        "\n",
        "\n",
        "\n",
        "\n",
        "\n",
        "\n",
        "\n",
        "\n",
        "\n",
        "\n",
        "\n",
        "\n",
        "\n",
        "\n",
        "\n",
        "\n",
        "\n",
        "\n",
        "\n",
        "\n",
        "\n",
        "\n",
        "\n",
        "\n",
        "\n",
        "\n",
        "\n",
        "\n",
        "\n",
        "\n",
        "\n",
        "\n",
        "\n",
        "\n",
        "\n",
        "\n",
        "\n",
        "\n",
        "\n",
        "\n",
        "\n",
        "\n",
        "\n",
        "\n",
        "\n",
        "\n",
        "\n",
        "\n",
        "\n",
        "\n",
        "\n",
        "\n",
        "\n",
        "\n",
        "\n",
        "\n",
        "\n",
        "\n",
        "\n",
        "\n",
        "\n",
        "\n",
        "\n",
        "\n",
        "\n",
        "\n",
        "\n",
        "\n",
        "\n",
        "\n",
        "\n",
        "\n",
        "\n",
        "\n",
        "\n",
        "\n",
        "\n",
        "\n",
        "\n",
        "\n",
        "\n",
        "\n",
        "\n",
        "\n",
        "\n",
        "\n",
        "\n",
        "\n",
        "\n",
        "\n",
        "\n",
        "\n",
        "\n",
        "\n",
        "\n",
        "\n",
        "\n",
        "\n",
        "\n",
        "\n",
        "\n",
        "\n",
        "\n",
        "\n",
        "\n",
        "\n",
        "\n",
        "\n",
        "\n",
        "\n",
        "\n",
        "\n",
        "\n"
      ],
      "metadata": {
        "id": "IdY3fvjxN4nS"
      }
    }
  ],
  "metadata": {
    "kernelspec": {
      "display_name": "Python 3",
      "language": "python",
      "name": "python3"
    },
    "language_info": {
      "codemirror_mode": {
        "name": "ipython",
        "version": 3
      },
      "file_extension": ".py",
      "mimetype": "text/x-python",
      "name": "python",
      "nbconvert_exporter": "python",
      "pygments_lexer": "ipython3",
      "version": "3.8.5"
    },
    "colab": {
      "provenance": [],
      "toc_visible": true
    }
  },
  "nbformat": 4,
  "nbformat_minor": 0
}